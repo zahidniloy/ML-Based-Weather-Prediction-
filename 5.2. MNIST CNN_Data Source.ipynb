{
 "cells": [
  {
   "cell_type": "code",
   "execution_count": null,
   "id": "a11aa508",
   "metadata": {},
   "outputs": [],
   "source": [
    "import pandas as pd\n",
    "import numpy as np\n",
    "import seaborn as sns\n",
    "import os\n",
    "import operator\n",
    "import matplotlib.pyplot as plt\n",
    "from sklearn.preprocessing import LabelEncoder\n",
    "from sklearn.metrics import confusion_matrix\n",
    "import tensorflow as tf\n",
    "from numpy import unique\n",
    "from numpy import reshape\n",
    "from keras.models import Sequential\n",
    "from keras.layers import Conv1D, Conv2D, Dense, BatchNormalization, Flatten, MaxPooling2D, Activation\n",
    "from keras.layers.core import Dense, Dropout\n",
    "from keras.utils import np_utils\n",
    "from keras.datasets import mnist\n",
    "from numpy import argmax\n",
    "from PIL import Image\n",
    "from numpy import asarray"
   ]
  },
  {
   "cell_type": "code",
   "execution_count": null,
   "id": "e719b5f0",
   "metadata": {},
   "outputs": [],
   "source": [
    "tf.random.set_seed(42)"
   ]
  },
  {
   "cell_type": "code",
   "execution_count": null,
   "id": "392dad74",
   "metadata": {},
   "outputs": [],
   "source": [
    "hand = mnist.load_data()"
   ]
  },
  {
   "cell_type": "code",
   "execution_count": null,
   "id": "4a6e3087",
   "metadata": {},
   "outputs": [],
   "source": [
    "hand[0]"
   ]
  },
  {
   "cell_type": "code",
   "execution_count": null,
   "id": "840f36fb",
   "metadata": {},
   "outputs": [],
   "source": [
    "(X_train, y_train), (X_test, y_test) = hand"
   ]
  },
  {
   "cell_type": "code",
   "execution_count": null,
   "id": "f8b21abf",
   "metadata": {},
   "outputs": [],
   "source": [
    "np.set_printoptions(edgeitems=3)\n",
    "np.core.arrayprint._line_width = 180000"
   ]
  },
  {
   "cell_type": "code",
   "execution_count": null,
   "id": "02642982",
   "metadata": {},
   "outputs": [],
   "source": [
    "X_train[0]"
   ]
  },
  {
   "cell_type": "code",
   "execution_count": null,
   "id": "c4acdad4",
   "metadata": {},
   "outputs": [],
   "source": [
    "print(X_train.shape, y_train.shape)\n",
    "print(X_test.shape, y_test.shape)"
   ]
  },
  {
   "cell_type": "code",
   "execution_count": null,
   "id": "182875ff",
   "metadata": {},
   "outputs": [],
   "source": [
    "y_train"
   ]
  },
  {
   "cell_type": "code",
   "execution_count": null,
   "id": "6fe30756",
   "metadata": {},
   "outputs": [],
   "source": [
    "plt.imshow(X_train[0])"
   ]
  },
  {
   "cell_type": "code",
   "execution_count": null,
   "id": "e389ad84",
   "metadata": {},
   "outputs": [],
   "source": [
    "num = 25\n",
    "images = X_train[:num]\n",
    "labels = y_train[:num]\n",
    "\n",
    "num_row = 5\n",
    "num_col = 5\n",
    "# plot images\n",
    "fig, axes = plt.subplots(num_row, num_col, figsize=(1.5*num_col,2*num_row))\n",
    "for i in range(num):\n",
    "    ax = axes[i//num_col, i%num_col]\n",
    "    ax.imshow(images[i])#, cmap='gray')\n",
    "    ax.set_title('Label: {}'.format(labels[i]))\n",
    "plt.tight_layout()\n",
    "plt.show()"
   ]
  },
  {
   "cell_type": "code",
   "execution_count": null,
   "id": "58f14800",
   "metadata": {},
   "outputs": [],
   "source": [
    "# 5. Preprocess input data\n",
    "X_train = X_train.reshape(X_train.shape[0], 28, 28, 1)\n",
    "X_test = X_test.reshape(X_test.shape[0], 28, 28, 1)"
   ]
  },
  {
   "cell_type": "code",
   "execution_count": null,
   "id": "aa74a1b0",
   "metadata": {},
   "outputs": [],
   "source": [
    "X_train = X_train.astype('float32')\n",
    "X_test = X_test.astype('float32')"
   ]
  },
  {
   "cell_type": "code",
   "execution_count": null,
   "id": "822b914e",
   "metadata": {},
   "outputs": [],
   "source": [
    "X_train /= 255\n",
    "X_test /= 255"
   ]
  },
  {
   "cell_type": "code",
   "execution_count": null,
   "id": "7d94a1e2",
   "metadata": {},
   "outputs": [],
   "source": [
    "# 6. Preprocess class labels\n",
    "Y_train = np_utils.to_categorical(y_train, 10)\n",
    "Y_test = np_utils.to_categorical(y_test, 10)"
   ]
  },
  {
   "cell_type": "code",
   "execution_count": null,
   "id": "95187f02",
   "metadata": {},
   "outputs": [],
   "source": [
    "Y_train"
   ]
  },
  {
   "cell_type": "code",
   "execution_count": null,
   "id": "ab8b0b26",
   "metadata": {},
   "outputs": [],
   "source": [
    "for label in range(10):\n",
    "    one_hot = (Y_train[label]).astype(np.int32)\n",
    "    print(\"label: \", label, \" in one-hot representation: \", one_hot)"
   ]
  },
  {
   "cell_type": "code",
   "execution_count": null,
   "id": "ca844f9e",
   "metadata": {},
   "outputs": [],
   "source": [
    "epochs = 30\n",
    "batch_size = 16\n",
    "n_hidden = 32\n",
    "\n",
    "#timesteps = len(X_train[0])\n",
    "#input_dim = len(X_train[0][0])\n",
    "#n_classes = _count_classes(Y_train)\n",
    "\n",
    "# 7. Define model architecture\n",
    "model = Sequential()\n",
    " \n",
    "model.add(Conv2D(32, (3,3), activation='relu', input_shape=(28,28,1)))\n",
    "model.add(Conv2D(32, (3,3), activation='relu'))\n",
    "model.add(MaxPooling2D(pool_size=(2,2)))\n",
    "model.add(Dropout(0.25))\n",
    " \n",
    "model.add(Flatten())\n",
    "model.add(Dense(128, activation='relu'))\n",
    "model.add(Dropout(0.5))\n",
    "model.add(Dense(10, activation='softmax'))\n",
    " \n",
    "# 8. Compile model\n",
    "model.compile(loss='categorical_crossentropy', optimizer='adam', metrics=['accuracy'])"
   ]
  },
  {
   "cell_type": "code",
   "execution_count": null,
   "id": "3a790644",
   "metadata": {},
   "outputs": [],
   "source": [
    "# 9. Fit model on training data\n",
    "model.fit(X_train, Y_train, batch_size=32, epochs=10, verbose=1)"
   ]
  },
  {
   "cell_type": "code",
   "execution_count": null,
   "id": "ff5d4f99",
   "metadata": {
    "scrolled": true
   },
   "outputs": [],
   "source": [
    "# 10. Evaluate model on test data\n",
    "score = model.evaluate(X_test, Y_test, verbose=2)"
   ]
  },
  {
   "cell_type": "code",
   "execution_count": null,
   "id": "6aaaabad",
   "metadata": {},
   "outputs": [],
   "source": [
    "#predict first 4 images in the test set\n",
    "model.predict(X_test[:4])"
   ]
  },
  {
   "cell_type": "code",
   "execution_count": null,
   "id": "19a7d0c6",
   "metadata": {},
   "outputs": [],
   "source": [
    "sumarray = np.sum(model.predict(X_test[:4]), axis=1)\n",
    "sumarray"
   ]
  },
  {
   "cell_type": "code",
   "execution_count": null,
   "id": "1fc6f5f2",
   "metadata": {},
   "outputs": [],
   "source": [
    "#actual results for first 4 images in test set\n",
    "y_test[:4]"
   ]
  },
  {
   "cell_type": "code",
   "execution_count": null,
   "id": "a060e9ca",
   "metadata": {},
   "outputs": [],
   "source": [
    "test_predictions = model.predict(X_test)\n",
    "cm = confusion_matrix(y_test, np.argmax(test_predictions,axis=1))\n",
    "print(cm)"
   ]
  },
  {
   "cell_type": "code",
   "execution_count": null,
   "id": "d7a4d433",
   "metadata": {},
   "outputs": [],
   "source": [
    "path = #YOUR PATH HERE\n",
    "path"
   ]
  },
  {
   "cell_type": "code",
   "execution_count": null,
   "id": "e05440ca",
   "metadata": {
    "scrolled": true
   },
   "outputs": [],
   "source": [
    "img = Image.open(os.path.join(path, 'DIRECTORY WITH PICTURE')) #<--FILL IN THIS VALUE!\n",
    "print(img.format)\n",
    "print(img.size)\n",
    "print(img.mode)"
   ]
  },
  {
   "cell_type": "code",
   "execution_count": null,
   "id": "e166e286",
   "metadata": {},
   "outputs": [],
   "source": [
    "newsize = (28,28)\n",
    "img2 = img.resize(newsize)\n",
    "img2"
   ]
  },
  {
   "cell_type": "code",
   "execution_count": null,
   "id": "8fe2eb8d",
   "metadata": {},
   "outputs": [],
   "source": [
    "testimg = asarray(img2)"
   ]
  },
  {
   "cell_type": "code",
   "execution_count": null,
   "id": "a2c70ad5",
   "metadata": {},
   "outputs": [],
   "source": [
    "print(testimg.shape)"
   ]
  },
  {
   "cell_type": "code",
   "execution_count": null,
   "id": "46dc0eaa",
   "metadata": {},
   "outputs": [],
   "source": [
    "testimg = testimg.reshape(1, 28, 28, 1)"
   ]
  },
  {
   "cell_type": "code",
   "execution_count": null,
   "id": "f1149b17",
   "metadata": {},
   "outputs": [],
   "source": [
    "# predict the class\n",
    "predict_value = model.predict(testimg)\n",
    "digit = argmax(predict_value)\n",
    "print(digit)"
   ]
  }
 ],
 "metadata": {
  "kernelspec": {
   "display_name": "Python 3 (ipykernel)",
   "language": "python",
   "name": "python3"
  },
  "language_info": {
   "codemirror_mode": {
    "name": "ipython",
    "version": 3
   },
   "file_extension": ".py",
   "mimetype": "text/x-python",
   "name": "python",
   "nbconvert_exporter": "python",
   "pygments_lexer": "ipython3",
   "version": "3.13.2"
  }
 },
 "nbformat": 4,
 "nbformat_minor": 5
}
