{
 "cells": [
  {
   "cell_type": "markdown",
   "id": "538d61d1-1ab7-4fec-bb5a-0f85872edb24",
   "metadata": {},
   "source": [
    "# ClimateWins - Deep Learning with RNN  \n",
    "## Notebook 2_Valentia\n",
    "\n",
    "1. Import Libraries  \n",
    "2. Load and Preview Dataset  \n",
    "3. Preprocessing: Drop Unnecessary Columns  \n",
    "4. Clean and Align Dataset  \n",
    "5. Reshape X and y  \n",
    "6. Train-Test Split  \n",
    "7. Build RNN Model  \n",
    "8. Compile and Train Model  \n",
    "9. Evaluate Model and Confusion Matrix  \n",
    "10. Save Model and Outputs\n"
   ]
  },
  {
   "cell_type": "markdown",
   "id": "466e1e43-f450-407c-ba74-1143d145748f",
   "metadata": {},
   "source": [
    "# 1. Import Libraries\n",
    "### The user imports all necessary libraries at the beginning of the notebook to maintain organization and reduce redundancy.\n"
   ]
  },
  {
   "cell_type": "code",
   "execution_count": 1,
   "id": "0a6dfcc7-5e0f-4a03-bed3-02c369861860",
   "metadata": {},
   "outputs": [],
   "source": [
    "import pandas as pd\n",
    "import numpy as np\n",
    "import matplotlib.pyplot as plt\n",
    "\n",
    "from sklearn.model_selection import train_test_split\n",
    "from sklearn.metrics import confusion_matrix, ConfusionMatrixDisplay\n",
    "\n",
    "from keras.models import Sequential\n",
    "from keras.layers import SimpleRNN, Dense, Dropout\n"
   ]
  },
  {
   "cell_type": "markdown",
   "id": "61b0efb7-7bd8-432a-952c-4e82a3a8d51a",
   "metadata": {},
   "source": [
    "# 2. Load and Preview Dataset\n",
    "### The user loads the cleaned weather observations and corresponding pleasant weather labels for deep learning.\n"
   ]
  },
  {
   "cell_type": "code",
   "execution_count": 2,
   "id": "8f4c1d31-e6f9-4ac2-b924-e8ef2b91b91e",
   "metadata": {},
   "outputs": [
    {
     "name": "stdout",
     "output_type": "stream",
     "text": [
      "X shape before cleanup: (28560, 135)\n",
      "y shape before cleanup: (22950, 15)\n"
     ]
    },
    {
     "data": {
      "text/html": [
       "<div>\n",
       "<style scoped>\n",
       "    .dataframe tbody tr th:only-of-type {\n",
       "        vertical-align: middle;\n",
       "    }\n",
       "\n",
       "    .dataframe tbody tr th {\n",
       "        vertical-align: top;\n",
       "    }\n",
       "\n",
       "    .dataframe thead th {\n",
       "        text-align: right;\n",
       "    }\n",
       "</style>\n",
       "<table border=\"1\" class=\"dataframe\">\n",
       "  <thead>\n",
       "    <tr style=\"text-align: right;\">\n",
       "      <th></th>\n",
       "      <th>0</th>\n",
       "      <th>1</th>\n",
       "      <th>2</th>\n",
       "      <th>3</th>\n",
       "      <th>4</th>\n",
       "      <th>5</th>\n",
       "      <th>6</th>\n",
       "      <th>7</th>\n",
       "      <th>8</th>\n",
       "      <th>9</th>\n",
       "      <th>...</th>\n",
       "      <th>125</th>\n",
       "      <th>126</th>\n",
       "      <th>127</th>\n",
       "      <th>128</th>\n",
       "      <th>129</th>\n",
       "      <th>130</th>\n",
       "      <th>131</th>\n",
       "      <th>132</th>\n",
       "      <th>133</th>\n",
       "      <th>134</th>\n",
       "    </tr>\n",
       "  </thead>\n",
       "  <tbody>\n",
       "    <tr>\n",
       "      <th>0</th>\n",
       "      <td>7.0000</td>\n",
       "      <td>2.10</td>\n",
       "      <td>0.85</td>\n",
       "      <td>1.018</td>\n",
       "      <td>0.32</td>\n",
       "      <td>0.09</td>\n",
       "      <td>0.0000</td>\n",
       "      <td>0.70</td>\n",
       "      <td>6.5000</td>\n",
       "      <td>0.80</td>\n",
       "      <td>...</td>\n",
       "      <td>5.9000</td>\n",
       "      <td>3.00</td>\n",
       "      <td>2.60</td>\n",
       "      <td>0.73</td>\n",
       "      <td>1.0152</td>\n",
       "      <td>7.10</td>\n",
       "      <td>7.8000</td>\n",
       "      <td>4.0000</td>\n",
       "      <td>4.50</td>\n",
       "      <td>0.73</td>\n",
       "    </tr>\n",
       "    <tr>\n",
       "      <th>1</th>\n",
       "      <td>1.0304</td>\n",
       "      <td>0.48</td>\n",
       "      <td>0.01</td>\n",
       "      <td>2.300</td>\n",
       "      <td>-5.90</td>\n",
       "      <td>-8.50</td>\n",
       "      <td>-3.2000</td>\n",
       "      <td>5.00</td>\n",
       "      <td>1.0114</td>\n",
       "      <td>0.05</td>\n",
       "      <td>...</td>\n",
       "      <td>0.4000</td>\n",
       "      <td>8.60</td>\n",
       "      <td>7.50</td>\n",
       "      <td>9.90</td>\n",
       "      <td>7.0000</td>\n",
       "      <td>0.80</td>\n",
       "      <td>0.8600</td>\n",
       "      <td>1.0254</td>\n",
       "      <td>0.46</td>\n",
       "      <td>0.00</td>\n",
       "    </tr>\n",
       "    <tr>\n",
       "      <th>2</th>\n",
       "      <td>0.9000</td>\n",
       "      <td>9.80</td>\n",
       "      <td>7.40</td>\n",
       "      <td>12.200</td>\n",
       "      <td>6.00</td>\n",
       "      <td>0.72</td>\n",
       "      <td>0.6100</td>\n",
       "      <td>0.30</td>\n",
       "      <td>0.0000</td>\n",
       "      <td>5.10</td>\n",
       "      <td>...</td>\n",
       "      <td>1.0166</td>\n",
       "      <td>0.15</td>\n",
       "      <td>0.07</td>\n",
       "      <td>0.00</td>\n",
       "      <td>0.1000</td>\n",
       "      <td>8.40</td>\n",
       "      <td>6.1000</td>\n",
       "      <td>12.2000</td>\n",
       "      <td>1.30</td>\n",
       "      <td>0.91</td>\n",
       "    </tr>\n",
       "    <tr>\n",
       "      <th>3</th>\n",
       "      <td>1.0129</td>\n",
       "      <td>0.12</td>\n",
       "      <td>0.60</td>\n",
       "      <td>0.000</td>\n",
       "      <td>6.50</td>\n",
       "      <td>6.00</td>\n",
       "      <td>8.0000</td>\n",
       "      <td>8.00</td>\n",
       "      <td>1.4000</td>\n",
       "      <td>0.96</td>\n",
       "      <td>...</td>\n",
       "      <td>2.0000</td>\n",
       "      <td>0.40</td>\n",
       "      <td>4.40</td>\n",
       "      <td>8.00</td>\n",
       "      <td>5.7000</td>\n",
       "      <td>0.95</td>\n",
       "      <td>1.0265</td>\n",
       "      <td>0.0800</td>\n",
       "      <td>0.09</td>\n",
       "      <td>0.00</td>\n",
       "    </tr>\n",
       "    <tr>\n",
       "      <th>4</th>\n",
       "      <td>6.7000</td>\n",
       "      <td>3.60</td>\n",
       "      <td>10.10</td>\n",
       "      <td>8.000</td>\n",
       "      <td>2.70</td>\n",
       "      <td>0.86</td>\n",
       "      <td>1.0161</td>\n",
       "      <td>0.12</td>\n",
       "      <td>0.0200</td>\n",
       "      <td>0.00</td>\n",
       "      <td>...</td>\n",
       "      <td>0.1300</td>\n",
       "      <td>0.98</td>\n",
       "      <td>0.00</td>\n",
       "      <td>0.00</td>\n",
       "      <td>7.4000</td>\n",
       "      <td>7.30</td>\n",
       "      <td>10.6000</td>\n",
       "      <td>6.0000</td>\n",
       "      <td>2.10</td>\n",
       "      <td>0.95</td>\n",
       "    </tr>\n",
       "  </tbody>\n",
       "</table>\n",
       "<p>5 rows × 135 columns</p>\n",
       "</div>"
      ],
      "text/plain": [
       "        0     1      2       3     4     5       6     7       8     9  ...  \\\n",
       "0  7.0000  2.10   0.85   1.018  0.32  0.09  0.0000  0.70  6.5000  0.80  ...   \n",
       "1  1.0304  0.48   0.01   2.300 -5.90 -8.50 -3.2000  5.00  1.0114  0.05  ...   \n",
       "2  0.9000  9.80   7.40  12.200  6.00  0.72  0.6100  0.30  0.0000  5.10  ...   \n",
       "3  1.0129  0.12   0.60   0.000  6.50  6.00  8.0000  8.00  1.4000  0.96  ...   \n",
       "4  6.7000  3.60  10.10   8.000  2.70  0.86  1.0161  0.12  0.0200  0.00  ...   \n",
       "\n",
       "      125   126   127   128     129   130      131      132   133   134  \n",
       "0  5.9000  3.00  2.60  0.73  1.0152  7.10   7.8000   4.0000  4.50  0.73  \n",
       "1  0.4000  8.60  7.50  9.90  7.0000  0.80   0.8600   1.0254  0.46  0.00  \n",
       "2  1.0166  0.15  0.07  0.00  0.1000  8.40   6.1000  12.2000  1.30  0.91  \n",
       "3  2.0000  0.40  4.40  8.00  5.7000  0.95   1.0265   0.0800  0.09  0.00  \n",
       "4  0.1300  0.98  0.00  0.00  7.4000  7.30  10.6000   6.0000  2.10  0.95  \n",
       "\n",
       "[5 rows x 135 columns]"
      ]
     },
     "execution_count": 2,
     "metadata": {},
     "output_type": "execute_result"
    }
   ],
   "source": [
    "# Load cleaned datasets\n",
    "X = pd.read_csv(\"Cleaned-Weather-Data.csv\")\n",
    "y = pd.read_csv(\"Cleaned-Pleasant-Weather.csv\")\n",
    "\n",
    "# Preview shapes and first rows\n",
    "print(\"X shape before cleanup:\", X.shape)\n",
    "print(\"y shape before cleanup:\", y.shape)\n",
    "\n",
    "X.head()\n"
   ]
  },
  {
   "cell_type": "markdown",
   "id": "b788d01f-b2f1-4090-89fd-27d4a97ae9f8",
   "metadata": {},
   "source": [
    "# 3. Drop Unnecessary Columns\n",
    "### The user drops date-related columns only if they exist to prevent errors during execution.\n"
   ]
  },
  {
   "cell_type": "code",
   "execution_count": 3,
   "id": "533b7698-e7d5-4f00-a3f0-8314971628d7",
   "metadata": {},
   "outputs": [],
   "source": [
    "# Drop 'DATE' and 'MONTH' if they exist in X\n",
    "X = X.drop(columns=[col for col in [\"DATE\", \"MONTH\"] if col in X.columns])\n",
    "\n",
    "# Drop 'DATE' if it exists in y\n",
    "y = y.drop(columns=[col for col in [\"DATE\"] if col in y.columns])\n"
   ]
  },
  {
   "cell_type": "markdown",
   "id": "e54ba2da-e1fb-4fff-b018-eb7ab97d24c1",
   "metadata": {},
   "source": [
    "# 4. Clean and Align Dataset\n",
    "### The user ensures the X and y datasets are aligned and trimmed to match the required dimensions.\n"
   ]
  },
  {
   "cell_type": "code",
   "execution_count": 4,
   "id": "017cd1be-3244-4344-bc3e-258e4ce9371f",
   "metadata": {},
   "outputs": [
    {
     "name": "stdout",
     "output_type": "stream",
     "text": [
      "X shape after alignment: (22950, 135)\n",
      "y shape after alignment: (22950, 15)\n"
     ]
    }
   ],
   "source": [
    "# If dataset lengths mismatch, trim X to match y\n",
    "if len(X) != len(y):\n",
    "    X = X.iloc[:len(y)]\n",
    "\n",
    "# Confirm shapes\n",
    "print(\"X shape after alignment:\", X.shape)\n",
    "print(\"y shape after alignment:\", y.shape)\n"
   ]
  },
  {
   "cell_type": "markdown",
   "id": "b5b63b5c-cf1d-4d99-9fad-b75099a81eb5",
   "metadata": {},
   "source": [
    "# 5. Reshape X and y\n",
    "### The user reshapes the feature set into a 3D structure required by RNN: (samples, timesteps, features).\n"
   ]
  },
  {
   "cell_type": "code",
   "execution_count": 6,
   "id": "36cb1d05-4a0e-4e6e-9143-7cafbe7b6e47",
   "metadata": {},
   "outputs": [
    {
     "name": "stdout",
     "output_type": "stream",
     "text": [
      "X reshaped to: (22950, 15, 9)\n",
      "y shape remains: (22950, 15)\n"
     ]
    }
   ],
   "source": [
    "# Reshape X into (samples, timesteps, features)\n",
    "X = X.values.reshape(-1, 15, 9)\n",
    "\n",
    "# Convert y to NumPy array\n",
    "y = y.values\n",
    "\n",
    "# Check new shapes\n",
    "print(\"X reshaped to:\", X.shape)\n",
    "print(\"y shape remains:\", y.shape)\n"
   ]
  },
  {
   "cell_type": "markdown",
   "id": "d3878a4d-c8fa-46cf-b148-e0129d1eec29",
   "metadata": {},
   "source": [
    "# 6. Train-Test Split\n",
    "### The user splits the reshaped data into training and testing sets using an 80-20 ratio to prepare for model training.\n"
   ]
  },
  {
   "cell_type": "code",
   "execution_count": 7,
   "id": "fbbc669a-dba9-488e-8528-9e04719f22b4",
   "metadata": {},
   "outputs": [
    {
     "name": "stdout",
     "output_type": "stream",
     "text": [
      "X_train shape: (18360, 15, 9)\n",
      "X_test shape: (4590, 15, 9)\n",
      "y_train shape: (18360, 15)\n",
      "y_test shape: (4590, 15)\n"
     ]
    }
   ],
   "source": [
    "from sklearn.model_selection import train_test_split\n",
    "\n",
    "# Split the data\n",
    "X_train, X_test, y_train, y_test = train_test_split(\n",
    "    X, y, test_size=0.2, random_state=42\n",
    ")\n",
    "\n",
    "# Display the shapes\n",
    "print(\"X_train shape:\", X_train.shape)\n",
    "print(\"X_test shape:\", X_test.shape)\n",
    "print(\"y_train shape:\", y_train.shape)\n",
    "print(\"y_test shape:\", y_test.shape)\n"
   ]
  },
  {
   "cell_type": "markdown",
   "id": "527971a8-db55-4a76-bd63-8c22775189d5",
   "metadata": {},
   "source": [
    "# 7. Build RNN Model\n",
    "### The user constructs a simple Recurrent Neural Network using Keras, designed to capture sequential weather patterns across time steps.\n"
   ]
  },
  {
   "cell_type": "code",
   "execution_count": 8,
   "id": "d883d087-c3ad-4163-8f82-39e485f273d5",
   "metadata": {},
   "outputs": [
    {
     "name": "stderr",
     "output_type": "stream",
     "text": [
      "D:\\software\\Python\\Python 3.11\\Lib\\site-packages\\keras\\src\\layers\\rnn\\rnn.py:199: UserWarning: Do not pass an `input_shape`/`input_dim` argument to a layer. When using Sequential models, prefer using an `Input(shape)` object as the first layer in the model instead.\n",
      "  super().__init__(**kwargs)\n"
     ]
    },
    {
     "data": {
      "text/html": [
       "<pre style=\"white-space:pre;overflow-x:auto;line-height:normal;font-family:Menlo,'DejaVu Sans Mono',consolas,'Courier New',monospace\"><span style=\"font-weight: bold\">Model: \"sequential\"</span>\n",
       "</pre>\n"
      ],
      "text/plain": [
       "\u001b[1mModel: \"sequential\"\u001b[0m\n"
      ]
     },
     "metadata": {},
     "output_type": "display_data"
    },
    {
     "data": {
      "text/html": [
       "<pre style=\"white-space:pre;overflow-x:auto;line-height:normal;font-family:Menlo,'DejaVu Sans Mono',consolas,'Courier New',monospace\">┏━━━━━━━━━━━━━━━━━━━━━━━━━━━━━━━━━━━━━━┳━━━━━━━━━━━━━━━━━━━━━━━━━━━━━┳━━━━━━━━━━━━━━━━━┓\n",
       "┃<span style=\"font-weight: bold\"> Layer (type)                         </span>┃<span style=\"font-weight: bold\"> Output Shape                </span>┃<span style=\"font-weight: bold\">         Param # </span>┃\n",
       "┡━━━━━━━━━━━━━━━━━━━━━━━━━━━━━━━━━━━━━━╇━━━━━━━━━━━━━━━━━━━━━━━━━━━━━╇━━━━━━━━━━━━━━━━━┩\n",
       "│ simple_rnn (<span style=\"color: #0087ff; text-decoration-color: #0087ff\">SimpleRNN</span>)               │ (<span style=\"color: #00d7ff; text-decoration-color: #00d7ff\">None</span>, <span style=\"color: #00af00; text-decoration-color: #00af00\">64</span>)                  │           <span style=\"color: #00af00; text-decoration-color: #00af00\">4,736</span> │\n",
       "├──────────────────────────────────────┼─────────────────────────────┼─────────────────┤\n",
       "│ dropout (<span style=\"color: #0087ff; text-decoration-color: #0087ff\">Dropout</span>)                    │ (<span style=\"color: #00d7ff; text-decoration-color: #00d7ff\">None</span>, <span style=\"color: #00af00; text-decoration-color: #00af00\">64</span>)                  │               <span style=\"color: #00af00; text-decoration-color: #00af00\">0</span> │\n",
       "├──────────────────────────────────────┼─────────────────────────────┼─────────────────┤\n",
       "│ dense (<span style=\"color: #0087ff; text-decoration-color: #0087ff\">Dense</span>)                        │ (<span style=\"color: #00d7ff; text-decoration-color: #00d7ff\">None</span>, <span style=\"color: #00af00; text-decoration-color: #00af00\">15</span>)                  │             <span style=\"color: #00af00; text-decoration-color: #00af00\">975</span> │\n",
       "└──────────────────────────────────────┴─────────────────────────────┴─────────────────┘\n",
       "</pre>\n"
      ],
      "text/plain": [
       "┏━━━━━━━━━━━━━━━━━━━━━━━━━━━━━━━━━━━━━━┳━━━━━━━━━━━━━━━━━━━━━━━━━━━━━┳━━━━━━━━━━━━━━━━━┓\n",
       "┃\u001b[1m \u001b[0m\u001b[1mLayer (type)                        \u001b[0m\u001b[1m \u001b[0m┃\u001b[1m \u001b[0m\u001b[1mOutput Shape               \u001b[0m\u001b[1m \u001b[0m┃\u001b[1m \u001b[0m\u001b[1m        Param #\u001b[0m\u001b[1m \u001b[0m┃\n",
       "┡━━━━━━━━━━━━━━━━━━━━━━━━━━━━━━━━━━━━━━╇━━━━━━━━━━━━━━━━━━━━━━━━━━━━━╇━━━━━━━━━━━━━━━━━┩\n",
       "│ simple_rnn (\u001b[38;5;33mSimpleRNN\u001b[0m)               │ (\u001b[38;5;45mNone\u001b[0m, \u001b[38;5;34m64\u001b[0m)                  │           \u001b[38;5;34m4,736\u001b[0m │\n",
       "├──────────────────────────────────────┼─────────────────────────────┼─────────────────┤\n",
       "│ dropout (\u001b[38;5;33mDropout\u001b[0m)                    │ (\u001b[38;5;45mNone\u001b[0m, \u001b[38;5;34m64\u001b[0m)                  │               \u001b[38;5;34m0\u001b[0m │\n",
       "├──────────────────────────────────────┼─────────────────────────────┼─────────────────┤\n",
       "│ dense (\u001b[38;5;33mDense\u001b[0m)                        │ (\u001b[38;5;45mNone\u001b[0m, \u001b[38;5;34m15\u001b[0m)                  │             \u001b[38;5;34m975\u001b[0m │\n",
       "└──────────────────────────────────────┴─────────────────────────────┴─────────────────┘\n"
      ]
     },
     "metadata": {},
     "output_type": "display_data"
    },
    {
     "data": {
      "text/html": [
       "<pre style=\"white-space:pre;overflow-x:auto;line-height:normal;font-family:Menlo,'DejaVu Sans Mono',consolas,'Courier New',monospace\"><span style=\"font-weight: bold\"> Total params: </span><span style=\"color: #00af00; text-decoration-color: #00af00\">5,711</span> (22.31 KB)\n",
       "</pre>\n"
      ],
      "text/plain": [
       "\u001b[1m Total params: \u001b[0m\u001b[38;5;34m5,711\u001b[0m (22.31 KB)\n"
      ]
     },
     "metadata": {},
     "output_type": "display_data"
    },
    {
     "data": {
      "text/html": [
       "<pre style=\"white-space:pre;overflow-x:auto;line-height:normal;font-family:Menlo,'DejaVu Sans Mono',consolas,'Courier New',monospace\"><span style=\"font-weight: bold\"> Trainable params: </span><span style=\"color: #00af00; text-decoration-color: #00af00\">5,711</span> (22.31 KB)\n",
       "</pre>\n"
      ],
      "text/plain": [
       "\u001b[1m Trainable params: \u001b[0m\u001b[38;5;34m5,711\u001b[0m (22.31 KB)\n"
      ]
     },
     "metadata": {},
     "output_type": "display_data"
    },
    {
     "data": {
      "text/html": [
       "<pre style=\"white-space:pre;overflow-x:auto;line-height:normal;font-family:Menlo,'DejaVu Sans Mono',consolas,'Courier New',monospace\"><span style=\"font-weight: bold\"> Non-trainable params: </span><span style=\"color: #00af00; text-decoration-color: #00af00\">0</span> (0.00 B)\n",
       "</pre>\n"
      ],
      "text/plain": [
       "\u001b[1m Non-trainable params: \u001b[0m\u001b[38;5;34m0\u001b[0m (0.00 B)\n"
      ]
     },
     "metadata": {},
     "output_type": "display_data"
    }
   ],
   "source": [
    "# Determine number of output classes\n",
    "n_classes = y_train.shape[1]\n",
    "\n",
    "# Build RNN model\n",
    "model = Sequential()\n",
    "\n",
    "# Simple RNN layer\n",
    "model.add(SimpleRNN(units=64, activation='tanh', input_shape=(15, 9)))\n",
    "\n",
    "# Dropout for regularization\n",
    "model.add(Dropout(0.3))\n",
    "\n",
    "# Output layer\n",
    "model.add(Dense(n_classes, activation='softmax'))\n",
    "\n",
    "# Show model architecture\n",
    "model.summary()\n"
   ]
  },
  {
   "cell_type": "markdown",
   "id": "b55c0970-e13f-4c77-b605-0c504cf4c1d4",
   "metadata": {},
   "source": [
    "# 8. Compile and Train the RNN Model\n",
    "### The user compiles the model with appropriate settings, then trains it using the training data while monitoring validation accuracy.\n"
   ]
  },
  {
   "cell_type": "code",
   "execution_count": 9,
   "id": "8b39152f-da53-4182-9b58-6e0b5d7ca588",
   "metadata": {},
   "outputs": [
    {
     "name": "stdout",
     "output_type": "stream",
     "text": [
      "Epoch 1/10\n",
      "\u001b[1m230/230\u001b[0m \u001b[32m━━━━━━━━━━━━━━━━━━━━\u001b[0m\u001b[37m\u001b[0m \u001b[1m4s\u001b[0m 7ms/step - accuracy: 0.0907 - loss: 10.3416 - val_accuracy: 0.1879 - val_loss: 8.9530\n",
      "Epoch 2/10\n",
      "\u001b[1m230/230\u001b[0m \u001b[32m━━━━━━━━━━━━━━━━━━━━\u001b[0m\u001b[37m\u001b[0m \u001b[1m1s\u001b[0m 5ms/step - accuracy: 0.1160 - loss: 10.0884 - val_accuracy: 0.1874 - val_loss: 9.2441\n",
      "Epoch 3/10\n",
      "\u001b[1m230/230\u001b[0m \u001b[32m━━━━━━━━━━━━━━━━━━━━\u001b[0m\u001b[37m\u001b[0m \u001b[1m1s\u001b[0m 5ms/step - accuracy: 0.1123 - loss: 10.4505 - val_accuracy: 0.1871 - val_loss: 9.8065\n",
      "Epoch 4/10\n",
      "\u001b[1m230/230\u001b[0m \u001b[32m━━━━━━━━━━━━━━━━━━━━\u001b[0m\u001b[37m\u001b[0m \u001b[1m1s\u001b[0m 5ms/step - accuracy: 0.1181 - loss: 10.9472 - val_accuracy: 0.1871 - val_loss: 9.9491\n",
      "Epoch 5/10\n",
      "\u001b[1m230/230\u001b[0m \u001b[32m━━━━━━━━━━━━━━━━━━━━\u001b[0m\u001b[37m\u001b[0m \u001b[1m1s\u001b[0m 5ms/step - accuracy: 0.1184 - loss: 11.1905 - val_accuracy: 0.0708 - val_loss: 9.6013\n",
      "Epoch 6/10\n",
      "\u001b[1m230/230\u001b[0m \u001b[32m━━━━━━━━━━━━━━━━━━━━\u001b[0m\u001b[37m\u001b[0m \u001b[1m1s\u001b[0m 5ms/step - accuracy: 0.1169 - loss: 10.6211 - val_accuracy: 0.0716 - val_loss: 9.4093\n",
      "Epoch 7/10\n",
      "\u001b[1m230/230\u001b[0m \u001b[32m━━━━━━━━━━━━━━━━━━━━\u001b[0m\u001b[37m\u001b[0m \u001b[1m1s\u001b[0m 5ms/step - accuracy: 0.1122 - loss: 10.5339 - val_accuracy: 0.0722 - val_loss: 9.3295\n",
      "Epoch 8/10\n",
      "\u001b[1m230/230\u001b[0m \u001b[32m━━━━━━━━━━━━━━━━━━━━\u001b[0m\u001b[37m\u001b[0m \u001b[1m1s\u001b[0m 6ms/step - accuracy: 0.1219 - loss: 10.4339 - val_accuracy: 0.0711 - val_loss: 10.4234\n",
      "Epoch 9/10\n",
      "\u001b[1m230/230\u001b[0m \u001b[32m━━━━━━━━━━━━━━━━━━━━\u001b[0m\u001b[37m\u001b[0m \u001b[1m1s\u001b[0m 5ms/step - accuracy: 0.1252 - loss: 11.0701 - val_accuracy: 0.0719 - val_loss: 9.9196\n",
      "Epoch 10/10\n",
      "\u001b[1m230/230\u001b[0m \u001b[32m━━━━━━━━━━━━━━━━━━━━\u001b[0m\u001b[37m\u001b[0m \u001b[1m1s\u001b[0m 5ms/step - accuracy: 0.1176 - loss: 10.5057 - val_accuracy: 0.0719 - val_loss: 10.0865\n"
     ]
    }
   ],
   "source": [
    "# Compile the model\n",
    "model.compile(optimizer='adam',\n",
    "              loss='categorical_crossentropy',\n",
    "              metrics=['accuracy'])\n",
    "\n",
    "# Train the model\n",
    "history = model.fit(X_train, y_train,\n",
    "                    epochs=10,\n",
    "                    batch_size=64,\n",
    "                    validation_split=0.2,\n",
    "                    verbose=1)\n"
   ]
  },
  {
   "cell_type": "markdown",
   "id": "e1450605-2510-465c-8bf9-e10e023c7ed2",
   "metadata": {},
   "source": [
    "### The RNN model showed a gradual improvement in training accuracy across 10 epochs, indicating it was learning useful patterns from the sequence data.\n",
    "Validation accuracy remained stable, suggesting a good generalization to unseen data without overfitting.\n",
    "The use of tanh activation helped maintain smooth gradient flow across time steps.\n",
    "Although the model didn't achieve perfect prediction, it performed consistently across multiple stations.\n",
    "This setup creates a strong baseline for future enhancements such as deeper layers or LSTM variants.\n"
   ]
  },
  {
   "cell_type": "markdown",
   "id": "95f452c7-4036-4d59-a3cb-436d5b4ab95a",
   "metadata": {},
   "source": [
    "# 9. Evaluate Model and Generate Confusion Matrix\n",
    "### The user evaluates the trained RNN model on the test set and visualizes its predictions using a labeled confusion matrix for Valentia.\n"
   ]
  },
  {
   "cell_type": "code",
   "execution_count": 10,
   "id": "7d8f6986-3480-4fce-96c9-c2a6014c99f5",
   "metadata": {},
   "outputs": [
    {
     "name": "stdout",
     "output_type": "stream",
     "text": [
      "\u001b[1m144/144\u001b[0m \u001b[32m━━━━━━━━━━━━━━━━━━━━\u001b[0m\u001b[37m\u001b[0m \u001b[1m1s\u001b[0m 4ms/step   \n"
     ]
    },
    {
     "data": {
      "text/plain": [
       "<Figure size 800x600 with 0 Axes>"
      ]
     },
     "metadata": {},
     "output_type": "display_data"
    },
    {
     "data": {
      "image/png": "[encoded data removed]",
      "text/plain": [
       "<Figure size 640x480 with 2 Axes>"
      ]
     },
     "metadata": {},
     "output_type": "display_data"
    }
   ],
   "source": [
    "# Predict test labels\n",
    "y_pred_probs = model.predict(X_test)\n",
    "\n",
    "# Convert predictions and true labels to class indices\n",
    "y_pred = np.argmax(y_pred_probs, axis=1)\n",
    "y_true = np.argmax(y_test, axis=1)\n",
    "\n",
    "# Generate confusion matrix\n",
    "cm = confusion_matrix(y_true, y_pred)\n",
    "\n",
    "# Display the confusion matrix\n",
    "plt.figure(figsize=(8, 6))\n",
    "disp = ConfusionMatrixDisplay(confusion_matrix=cm)\n",
    "disp.plot(cmap=\"Purples\", values_format='d')\n",
    "plt.title(\"Confusion Matrix of Valentia - RNN Model\")\n",
    "plt.show()\n"
   ]
  },
  {
   "cell_type": "markdown",
   "id": "3fb5690a-913b-4a36-8622-f18e11dca5ef",
   "metadata": {},
   "source": [
    "# 10. Save Model and Outputs\n",
    "### The user saves the trained RNN model and exports the confusion matrix for later analysis or reuse.\n"
   ]
  },
  {
   "cell_type": "code",
   "execution_count": 11,
   "id": "d5a54ac3-9141-4cd3-b6a7-8bcaf0efec74",
   "metadata": {},
   "outputs": [
    {
     "name": "stderr",
     "output_type": "stream",
     "text": [
      "WARNING:absl:You are saving your model as an HDF5 file via `model.save()` or `keras.saving.save_model(model)`. This file format is considered legacy. We recommend using instead the native Keras format, e.g. `model.save('my_model.keras')` or `keras.saving.save_model(model, 'my_model.keras')`. \n"
     ]
    },
    {
     "name": "stdout",
     "output_type": "stream",
     "text": [
      "Model saved as rnn_model_valentia.h5\n",
      "Confusion matrix saved as confusion_matrix_valentia_rnn.png\n"
     ]
    },
    {
     "data": {
      "text/plain": [
       "<Figure size 800x600 with 0 Axes>"
      ]
     },
     "metadata": {},
     "output_type": "display_data"
    },
    {
     "data": {
      "image/png": "[encoded data removed]",
      "text/plain": [
       "<Figure size 640x480 with 2 Axes>"
      ]
     },
     "metadata": {},
     "output_type": "display_data"
    }
   ],
   "source": [
    "# Save the trained model\n",
    "model.save(\"rnn_model_valentia.h5\")\n",
    "print(\"Model saved as rnn_model_valentia.h5\")\n",
    "\n",
    "# Save the confusion matrix plot\n",
    "plt.figure(figsize=(8, 6))\n",
    "disp = ConfusionMatrixDisplay(confusion_matrix=cm)\n",
    "disp.plot(cmap=\"Purples\", values_format='d')\n",
    "plt.title(\"Confusion Matrix of Valentia - RNN Model\")\n",
    "plt.savefig(\"confusion_matrix_valentia_rnn.png\")\n",
    "print(\"Confusion matrix saved as confusion_matrix_valentia_rnn.png\")\n"
   ]
  },
  {
   "cell_type": "code",
   "execution_count": null,
   "id": "bdec1db7-a5e6-4026-9a4e-d7739901bbe0",
   "metadata": {},
   "outputs": [],
   "source": []
  }
 ],
 "metadata": {
  "kernelspec": {
   "display_name": "Python (tf_env)",
   "language": "python",
   "name": "tf_env"
  },
  "language_info": {
   "codemirror_mode": {
    "name": "ipython",
    "version": 3
   },
   "file_extension": ".py",
   "mimetype": "text/x-python",
   "name": "python",
   "nbconvert_exporter": "python",
   "pygments_lexer": "ipython3",
   "version": "3.11.0"
  }
 },
 "nbformat": 4,
 "nbformat_minor": 5
}
