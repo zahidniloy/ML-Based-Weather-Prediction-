{
 "cells": [
  {
   "cell_type": "markdown",
   "id": "83051166-d579-47b1-9774-653ff74b46c3",
   "metadata": {},
   "source": [
    "# ClimateWins – Exercise 2.2.1: CNN Model for Weather Pattern Prediction\n",
    "\n",
    "## Table of Contents\n",
    "1. Import Libraries\n",
    "2. Load and Preview Dataset\n",
    "3. Data Cleaning and Preprocessing\n",
    "4. Export Cleaned Dataset\n",
    "5. Reshape Data for CNN Input\n",
    "6. Train-Test Split\n",
    "7. Build CNN Model\n",
    "8. Compile and Train Model\n",
    "9. Evaluate Model Performance\n",
    "10. Confusion Matrix and Results\n"
   ]
  },
  {
   "cell_type": "markdown",
   "id": "8a421880-84e9-4509-b0df-bf7ee71ba0cc",
   "metadata": {},
   "source": [
    "# 2. Import Libraries (Code Cell)"
   ]
  },
  {
   "cell_type": "code",
   "execution_count": 41,
   "id": "f60fb49d-058e-4c24-8750-ec82943860a2",
   "metadata": {},
   "outputs": [],
   "source": [
    "# 1. Import Libraries\n",
    "import pandas as pd\n",
    "import numpy as np\n",
    "import matplotlib.pyplot as plt\n",
    "import seaborn as sns\n",
    "from sklearn.model_selection import train_test_split\n",
    "from sklearn.metrics import confusion_matrix, ConfusionMatrixDisplay\n",
    "import tensorflow as tf\n",
    "from tensorflow.keras.models import Sequential\n",
    "from tensorflow.keras.layers import Conv1D, MaxPooling1D, Flatten, Dense\n",
    "from tensorflow.keras.utils import to_categorical\n"
   ]
  },
  {
   "cell_type": "markdown",
   "id": "ba705d2d-f6f5-4b0f-990e-da7d92bb8414",
   "metadata": {},
   "source": [
    " # 3. Load and Preview Dataset"
   ]
  },
  {
   "cell_type": "code",
   "execution_count": 42,
   "id": "795986c2-0b46-4a4a-b47a-6eab1066d6ed",
   "metadata": {},
   "outputs": [
    {
     "name": "stdout",
     "output_type": "stream",
     "text": [
      "Shape of the dataset: (22950, 170)\n"
     ]
    },
    {
     "data": {
      "text/html": [
       "<div>\n",
       "<style scoped>\n",
       "    .dataframe tbody tr th:only-of-type {\n",
       "        vertical-align: middle;\n",
       "    }\n",
       "\n",
       "    .dataframe tbody tr th {\n",
       "        vertical-align: top;\n",
       "    }\n",
       "\n",
       "    .dataframe thead th {\n",
       "        text-align: right;\n",
       "    }\n",
       "</style>\n",
       "<table border=\"1\" class=\"dataframe\">\n",
       "  <thead>\n",
       "    <tr style=\"text-align: right;\">\n",
       "      <th></th>\n",
       "      <th>DATE</th>\n",
       "      <th>MONTH</th>\n",
       "      <th>BASEL_cloud_cover</th>\n",
       "      <th>BASEL_wind_speed</th>\n",
       "      <th>BASEL_humidity</th>\n",
       "      <th>BASEL_pressure</th>\n",
       "      <th>BASEL_global_radiation</th>\n",
       "      <th>BASEL_precipitation</th>\n",
       "      <th>BASEL_snow_depth</th>\n",
       "      <th>BASEL_sunshine</th>\n",
       "      <th>...</th>\n",
       "      <th>VALENTIA_cloud_cover</th>\n",
       "      <th>VALENTIA_humidity</th>\n",
       "      <th>VALENTIA_pressure</th>\n",
       "      <th>VALENTIA_global_radiation</th>\n",
       "      <th>VALENTIA_precipitation</th>\n",
       "      <th>VALENTIA_snow_depth</th>\n",
       "      <th>VALENTIA_sunshine</th>\n",
       "      <th>VALENTIA_temp_mean</th>\n",
       "      <th>VALENTIA_temp_min</th>\n",
       "      <th>VALENTIA_temp_max</th>\n",
       "    </tr>\n",
       "  </thead>\n",
       "  <tbody>\n",
       "    <tr>\n",
       "      <th>0</th>\n",
       "      <td>19600101</td>\n",
       "      <td>1</td>\n",
       "      <td>7</td>\n",
       "      <td>2.1</td>\n",
       "      <td>0.85</td>\n",
       "      <td>1.018</td>\n",
       "      <td>0.32</td>\n",
       "      <td>0.09</td>\n",
       "      <td>0</td>\n",
       "      <td>0.7</td>\n",
       "      <td>...</td>\n",
       "      <td>5</td>\n",
       "      <td>0.88</td>\n",
       "      <td>1.0003</td>\n",
       "      <td>0.45</td>\n",
       "      <td>0.34</td>\n",
       "      <td>0</td>\n",
       "      <td>4.7</td>\n",
       "      <td>8.5</td>\n",
       "      <td>6.0</td>\n",
       "      <td>10.9</td>\n",
       "    </tr>\n",
       "    <tr>\n",
       "      <th>1</th>\n",
       "      <td>19600102</td>\n",
       "      <td>1</td>\n",
       "      <td>6</td>\n",
       "      <td>2.1</td>\n",
       "      <td>0.84</td>\n",
       "      <td>1.018</td>\n",
       "      <td>0.36</td>\n",
       "      <td>1.05</td>\n",
       "      <td>0</td>\n",
       "      <td>1.1</td>\n",
       "      <td>...</td>\n",
       "      <td>7</td>\n",
       "      <td>0.91</td>\n",
       "      <td>1.0007</td>\n",
       "      <td>0.25</td>\n",
       "      <td>0.84</td>\n",
       "      <td>0</td>\n",
       "      <td>0.7</td>\n",
       "      <td>8.9</td>\n",
       "      <td>5.6</td>\n",
       "      <td>12.1</td>\n",
       "    </tr>\n",
       "    <tr>\n",
       "      <th>2</th>\n",
       "      <td>19600103</td>\n",
       "      <td>1</td>\n",
       "      <td>8</td>\n",
       "      <td>2.1</td>\n",
       "      <td>0.90</td>\n",
       "      <td>1.018</td>\n",
       "      <td>0.18</td>\n",
       "      <td>0.30</td>\n",
       "      <td>0</td>\n",
       "      <td>0.0</td>\n",
       "      <td>...</td>\n",
       "      <td>7</td>\n",
       "      <td>0.91</td>\n",
       "      <td>1.0096</td>\n",
       "      <td>0.17</td>\n",
       "      <td>0.08</td>\n",
       "      <td>0</td>\n",
       "      <td>0.1</td>\n",
       "      <td>10.5</td>\n",
       "      <td>8.1</td>\n",
       "      <td>12.9</td>\n",
       "    </tr>\n",
       "    <tr>\n",
       "      <th>3</th>\n",
       "      <td>19600104</td>\n",
       "      <td>1</td>\n",
       "      <td>3</td>\n",
       "      <td>2.1</td>\n",
       "      <td>0.92</td>\n",
       "      <td>1.018</td>\n",
       "      <td>0.58</td>\n",
       "      <td>0.00</td>\n",
       "      <td>0</td>\n",
       "      <td>4.1</td>\n",
       "      <td>...</td>\n",
       "      <td>7</td>\n",
       "      <td>0.86</td>\n",
       "      <td>1.0184</td>\n",
       "      <td>0.13</td>\n",
       "      <td>0.98</td>\n",
       "      <td>0</td>\n",
       "      <td>0.0</td>\n",
       "      <td>7.4</td>\n",
       "      <td>7.3</td>\n",
       "      <td>10.6</td>\n",
       "    </tr>\n",
       "    <tr>\n",
       "      <th>4</th>\n",
       "      <td>19600105</td>\n",
       "      <td>1</td>\n",
       "      <td>6</td>\n",
       "      <td>2.1</td>\n",
       "      <td>0.95</td>\n",
       "      <td>1.018</td>\n",
       "      <td>0.65</td>\n",
       "      <td>0.14</td>\n",
       "      <td>0</td>\n",
       "      <td>5.4</td>\n",
       "      <td>...</td>\n",
       "      <td>3</td>\n",
       "      <td>0.80</td>\n",
       "      <td>1.0328</td>\n",
       "      <td>0.46</td>\n",
       "      <td>0.00</td>\n",
       "      <td>0</td>\n",
       "      <td>5.7</td>\n",
       "      <td>5.7</td>\n",
       "      <td>3.0</td>\n",
       "      <td>8.4</td>\n",
       "    </tr>\n",
       "  </tbody>\n",
       "</table>\n",
       "<p>5 rows × 170 columns</p>\n",
       "</div>"
      ],
      "text/plain": [
       "       DATE  MONTH  BASEL_cloud_cover  BASEL_wind_speed  BASEL_humidity  \\\n",
       "0  19600101      1                  7               2.1            0.85   \n",
       "1  19600102      1                  6               2.1            0.84   \n",
       "2  19600103      1                  8               2.1            0.90   \n",
       "3  19600104      1                  3               2.1            0.92   \n",
       "4  19600105      1                  6               2.1            0.95   \n",
       "\n",
       "   BASEL_pressure  BASEL_global_radiation  BASEL_precipitation  \\\n",
       "0           1.018                    0.32                 0.09   \n",
       "1           1.018                    0.36                 1.05   \n",
       "2           1.018                    0.18                 0.30   \n",
       "3           1.018                    0.58                 0.00   \n",
       "4           1.018                    0.65                 0.14   \n",
       "\n",
       "   BASEL_snow_depth  BASEL_sunshine  ...  VALENTIA_cloud_cover  \\\n",
       "0                 0             0.7  ...                     5   \n",
       "1                 0             1.1  ...                     7   \n",
       "2                 0             0.0  ...                     7   \n",
       "3                 0             4.1  ...                     7   \n",
       "4                 0             5.4  ...                     3   \n",
       "\n",
       "   VALENTIA_humidity  VALENTIA_pressure  VALENTIA_global_radiation  \\\n",
       "0               0.88             1.0003                       0.45   \n",
       "1               0.91             1.0007                       0.25   \n",
       "2               0.91             1.0096                       0.17   \n",
       "3               0.86             1.0184                       0.13   \n",
       "4               0.80             1.0328                       0.46   \n",
       "\n",
       "   VALENTIA_precipitation  VALENTIA_snow_depth  VALENTIA_sunshine  \\\n",
       "0                    0.34                    0                4.7   \n",
       "1                    0.84                    0                0.7   \n",
       "2                    0.08                    0                0.1   \n",
       "3                    0.98                    0                0.0   \n",
       "4                    0.00                    0                5.7   \n",
       "\n",
       "   VALENTIA_temp_mean  VALENTIA_temp_min  VALENTIA_temp_max  \n",
       "0                 8.5                6.0               10.9  \n",
       "1                 8.9                5.6               12.1  \n",
       "2                10.5                8.1               12.9  \n",
       "3                 7.4                7.3               10.6  \n",
       "4                 5.7                3.0                8.4  \n",
       "\n",
       "[5 rows x 170 columns]"
      ]
     },
     "execution_count": 42,
     "metadata": {},
     "output_type": "execute_result"
    }
   ],
   "source": [
    "# Load the original unscaled weather observations\n",
    "df = pd.read_csv(\"Dataset-weather-prediction-dataset-processed.csv\")\n",
    "\n",
    "# Display the shape and first 5 rows\n",
    "print(\"Shape of the dataset:\", df.shape)\n",
    "df.head()\n"
   ]
  },
  {
   "cell_type": "markdown",
   "id": "5fb639a5-3868-4404-8f1b-ecca8fe1ba5c",
   "metadata": {},
   "source": [
    "# 4. Data Cleaning and Preprocessing"
   ]
  },
  {
   "cell_type": "code",
   "execution_count": 43,
   "id": "a1251bdb-b198-4540-99d6-da3f64db8931",
   "metadata": {},
   "outputs": [
    {
     "name": "stdout",
     "output_type": "stream",
     "text": [
      "Number of rows in X: 22950\n",
      "Number of rows in y: 22950\n"
     ]
    }
   ],
   "source": [
    "# Drop DATE and MONTH columns from observations and reset index\n",
    "X = df.drop(['DATE', 'MONTH'], axis=1).reset_index(drop=True)\n",
    "\n",
    "# Load pleasant weather prediction labels and reset index\n",
    "y = pd.read_csv(\"Dataset-Answers-Weather_Prediction_Pleasant_Weather.csv\")\n",
    "y = y.drop('DATE', axis=1).reset_index(drop=True)\n",
    "\n",
    "# Confirm number of rows\n",
    "print(\"Number of rows in X:\", len(X))\n",
    "print(\"Number of rows in y:\", len(y))\n",
    "\n",
    "# Fill in missing rows manually using nearby stations\n",
    "# Based on max index, we adjust rows just before the end\n",
    "X.loc[22948] = X.loc[22947]  # Oslo from Stockholm\n",
    "X.loc[18020] = X.loc[18019]  # Sonnblick from Munchen\n",
    "X.loc[10233] = X.loc[10232]  # Ljubljana from Kassel\n"
   ]
  },
  {
   "cell_type": "markdown",
   "id": "d624a3c3-c4ca-4934-8199-d944a011bd05",
   "metadata": {},
   "source": [
    "# 5. Export Cleaned Dataset"
   ]
  },
  {
   "cell_type": "markdown",
   "id": "0a7ab528-537f-4189-83f4-1ad6c47b7568",
   "metadata": {},
   "source": [
    "### The cleaned input (X) and label (y) datasets are saved to CSV files for reuse in later exercises, including Exercise 2.3."
   ]
  },
  {
   "cell_type": "code",
   "execution_count": 46,
   "id": "abc6bbb3-ad48-4fa3-a5c1-f54395659630",
   "metadata": {},
   "outputs": [
    {
     "name": "stdout",
     "output_type": "stream",
     "text": [
      "✅ Cleaned datasets exported successfully.\n"
     ]
    }
   ],
   "source": [
    "# Convert X and y to NumPy arrays before reshaping\n",
    "X_array = X[:22950].values.reshape(-1, 135)  # 15×9 = 135\n",
    "y_array = y[:22950].values\n",
    "\n",
    "# Convert back to DataFrames for CSV export\n",
    "X_cleaned = pd.DataFrame(X_array)\n",
    "y_cleaned = pd.DataFrame(y_array)\n",
    "\n",
    "# Save cleaned datasets\n",
    "X_cleaned.to_csv(\"Cleaned-Weather-Data.csv\", index=False)\n",
    "y_cleaned.to_csv(\"Cleaned-Pleasant-Weather.csv\", index=False)\n",
    "\n",
    "print(\"✅ Cleaned datasets exported successfully.\")\n",
    "\n"
   ]
  },
  {
   "cell_type": "markdown",
   "id": "58ba9c67-cddc-47a4-9a6c-5746c2fd81eb",
   "metadata": {},
   "source": [
    "# 6. Reshape Data for CNN Input"
   ]
  },
  {
   "cell_type": "markdown",
   "id": "580f3e79-f0d5-4dfc-b359-d85d7dd9c251",
   "metadata": {},
   "source": [
    "### The input features are reshaped into a 3D structure (samples, timesteps, features) required by CNN. The target dataset is kept as-is in 2D."
   ]
  },
  {
   "cell_type": "code",
   "execution_count": 47,
   "id": "679ef878-2ac6-4379-9f15-6b8baee8e487",
   "metadata": {},
   "outputs": [
    {
     "name": "stdout",
     "output_type": "stream",
     "text": [
      "Shape of X: (28560, 15, 9)\n",
      "Shape of y: (22950, 15)\n"
     ]
    }
   ],
   "source": [
    "# Load cleaned CSVs\n",
    "X = pd.read_csv(\"Cleaned-Weather-Data.csv\")\n",
    "y = pd.read_csv(\"Cleaned-Pleasant-Weather.csv\")\n",
    "\n",
    "# Reshape X into (22950, 15, 9) and convert y to NumPy\n",
    "X = X.values.reshape(-1, 15, 9)\n",
    "y = y.values\n",
    "\n",
    "# Confirm shape\n",
    "print(\"Shape of X:\", X.shape)\n",
    "print(\"Shape of y:\", y.shape)\n",
    "\n",
    "# Define number of output classes\n",
    "n_classes = y.shape[1]\n"
   ]
  },
  {
   "cell_type": "code",
   "execution_count": 48,
   "id": "d76911b3-ad74-43aa-8fd8-bb7f8bd5bf44",
   "metadata": {},
   "outputs": [],
   "source": [
    "n_classes = y.shape[1]\n"
   ]
  },
  {
   "cell_type": "markdown",
   "id": "351d4fc4-51d3-432b-8f2d-e2a002974b13",
   "metadata": {},
   "source": [
    "# 7. Train-Test Split"
   ]
  },
  {
   "cell_type": "markdown",
   "id": "73cf1827-f302-4b6f-b6bc-653f5f0b4201",
   "metadata": {},
   "source": [
    "### The dataset is split into training and test sets to evaluate the model's performance on unseen data."
   ]
  },
  {
   "cell_type": "code",
   "execution_count": 50,
   "id": "471848a6-1bf0-4e8f-b088-4ed16eee6c4a",
   "metadata": {},
   "outputs": [
    {
     "name": "stdout",
     "output_type": "stream",
     "text": [
      "X_train: (18360, 15, 9)\n",
      "X_test: (4590, 15, 9)\n",
      "y_train: (18360, 15)\n",
      "y_test: (4590, 15)\n"
     ]
    }
   ],
   "source": [
    "from sklearn.model_selection import train_test_split\n",
    "\n",
    "# Slice X to match y’s length\n",
    "X = X[:22950]\n",
    "\n",
    "# Split into training and test sets (80/20 split)\n",
    "X_train, X_test, y_train, y_test = train_test_split(\n",
    "    X, y, test_size=0.2, random_state=42\n",
    ")\n",
    "\n",
    "# Print shapes\n",
    "print(\"X_train:\", X_train.shape)\n",
    "print(\"X_test:\", X_test.shape)\n",
    "print(\"y_train:\", y_train.shape)\n",
    "print(\"y_test:\", y_test.shape)\n"
   ]
  },
  {
   "cell_type": "markdown",
   "id": "233b2fc6-23a7-43d3-a87b-890cba229c1e",
   "metadata": {},
   "source": [
    "# 8. Build CNN Model"
   ]
  },
  {
   "cell_type": "markdown",
   "id": "dd155ea1-da9c-4899-a25c-8baa9c05045e",
   "metadata": {},
   "source": [
    "A 1D Convolutional Neural Network (CNN) is constructed to learn patterns from weather sequences. The final layer uses a softmax activation to predict one of 15 possible weather station outputs."
   ]
  },
  {
   "cell_type": "code",
   "execution_count": 51,
   "id": "b9c39c2d-1850-4d8b-bb4f-f4a4a357109b",
   "metadata": {},
   "outputs": [
    {
     "name": "stderr",
     "output_type": "stream",
     "text": [
      "D:\\software\\Python\\Python 3.11\\Lib\\site-packages\\keras\\src\\layers\\convolutional\\base_conv.py:113: UserWarning: Do not pass an `input_shape`/`input_dim` argument to a layer. When using Sequential models, prefer using an `Input(shape)` object as the first layer in the model instead.\n",
      "  super().__init__(activity_regularizer=activity_regularizer, **kwargs)\n"
     ]
    },
    {
     "data": {
      "text/html": [
       "<pre style=\"white-space:pre;overflow-x:auto;line-height:normal;font-family:Menlo,'DejaVu Sans Mono',consolas,'Courier New',monospace\"><span style=\"font-weight: bold\">Model: \"sequential_1\"</span>\n",
       "</pre>\n"
      ],
      "text/plain": [
       "\u001b[1mModel: \"sequential_1\"\u001b[0m\n"
      ]
     },
     "metadata": {},
     "output_type": "display_data"
    },
    {
     "data": {
      "text/html": [
       "<pre style=\"white-space:pre;overflow-x:auto;line-height:normal;font-family:Menlo,'DejaVu Sans Mono',consolas,'Courier New',monospace\">┏━━━━━━━━━━━━━━━━━━━━━━━━━━━━━━━━━━━━━━┳━━━━━━━━━━━━━━━━━━━━━━━━━━━━━┳━━━━━━━━━━━━━━━━━┓\n",
       "┃<span style=\"font-weight: bold\"> Layer (type)                         </span>┃<span style=\"font-weight: bold\"> Output Shape                </span>┃<span style=\"font-weight: bold\">         Param # </span>┃\n",
       "┡━━━━━━━━━━━━━━━━━━━━━━━━━━━━━━━━━━━━━━╇━━━━━━━━━━━━━━━━━━━━━━━━━━━━━╇━━━━━━━━━━━━━━━━━┩\n",
       "│ conv1d_2 (<span style=\"color: #0087ff; text-decoration-color: #0087ff\">Conv1D</span>)                    │ (<span style=\"color: #00d7ff; text-decoration-color: #00d7ff\">None</span>, <span style=\"color: #00af00; text-decoration-color: #00af00\">14</span>, <span style=\"color: #00af00; text-decoration-color: #00af00\">32</span>)              │             <span style=\"color: #00af00; text-decoration-color: #00af00\">608</span> │\n",
       "├──────────────────────────────────────┼─────────────────────────────┼─────────────────┤\n",
       "│ max_pooling1d_2 (<span style=\"color: #0087ff; text-decoration-color: #0087ff\">MaxPooling1D</span>)       │ (<span style=\"color: #00d7ff; text-decoration-color: #00d7ff\">None</span>, <span style=\"color: #00af00; text-decoration-color: #00af00\">7</span>, <span style=\"color: #00af00; text-decoration-color: #00af00\">32</span>)               │               <span style=\"color: #00af00; text-decoration-color: #00af00\">0</span> │\n",
       "├──────────────────────────────────────┼─────────────────────────────┼─────────────────┤\n",
       "│ flatten_2 (<span style=\"color: #0087ff; text-decoration-color: #0087ff\">Flatten</span>)                  │ (<span style=\"color: #00d7ff; text-decoration-color: #00d7ff\">None</span>, <span style=\"color: #00af00; text-decoration-color: #00af00\">224</span>)                 │               <span style=\"color: #00af00; text-decoration-color: #00af00\">0</span> │\n",
       "├──────────────────────────────────────┼─────────────────────────────┼─────────────────┤\n",
       "│ dense_3 (<span style=\"color: #0087ff; text-decoration-color: #0087ff\">Dense</span>)                      │ (<span style=\"color: #00d7ff; text-decoration-color: #00d7ff\">None</span>, <span style=\"color: #00af00; text-decoration-color: #00af00\">64</span>)                  │          <span style=\"color: #00af00; text-decoration-color: #00af00\">14,400</span> │\n",
       "├──────────────────────────────────────┼─────────────────────────────┼─────────────────┤\n",
       "│ dense_4 (<span style=\"color: #0087ff; text-decoration-color: #0087ff\">Dense</span>)                      │ (<span style=\"color: #00d7ff; text-decoration-color: #00d7ff\">None</span>, <span style=\"color: #00af00; text-decoration-color: #00af00\">15</span>)                  │             <span style=\"color: #00af00; text-decoration-color: #00af00\">975</span> │\n",
       "└──────────────────────────────────────┴─────────────────────────────┴─────────────────┘\n",
       "</pre>\n"
      ],
      "text/plain": [
       "┏━━━━━━━━━━━━━━━━━━━━━━━━━━━━━━━━━━━━━━┳━━━━━━━━━━━━━━━━━━━━━━━━━━━━━┳━━━━━━━━━━━━━━━━━┓\n",
       "┃\u001b[1m \u001b[0m\u001b[1mLayer (type)                        \u001b[0m\u001b[1m \u001b[0m┃\u001b[1m \u001b[0m\u001b[1mOutput Shape               \u001b[0m\u001b[1m \u001b[0m┃\u001b[1m \u001b[0m\u001b[1m        Param #\u001b[0m\u001b[1m \u001b[0m┃\n",
       "┡━━━━━━━━━━━━━━━━━━━━━━━━━━━━━━━━━━━━━━╇━━━━━━━━━━━━━━━━━━━━━━━━━━━━━╇━━━━━━━━━━━━━━━━━┩\n",
       "│ conv1d_2 (\u001b[38;5;33mConv1D\u001b[0m)                    │ (\u001b[38;5;45mNone\u001b[0m, \u001b[38;5;34m14\u001b[0m, \u001b[38;5;34m32\u001b[0m)              │             \u001b[38;5;34m608\u001b[0m │\n",
       "├──────────────────────────────────────┼─────────────────────────────┼─────────────────┤\n",
       "│ max_pooling1d_2 (\u001b[38;5;33mMaxPooling1D\u001b[0m)       │ (\u001b[38;5;45mNone\u001b[0m, \u001b[38;5;34m7\u001b[0m, \u001b[38;5;34m32\u001b[0m)               │               \u001b[38;5;34m0\u001b[0m │\n",
       "├──────────────────────────────────────┼─────────────────────────────┼─────────────────┤\n",
       "│ flatten_2 (\u001b[38;5;33mFlatten\u001b[0m)                  │ (\u001b[38;5;45mNone\u001b[0m, \u001b[38;5;34m224\u001b[0m)                 │               \u001b[38;5;34m0\u001b[0m │\n",
       "├──────────────────────────────────────┼─────────────────────────────┼─────────────────┤\n",
       "│ dense_3 (\u001b[38;5;33mDense\u001b[0m)                      │ (\u001b[38;5;45mNone\u001b[0m, \u001b[38;5;34m64\u001b[0m)                  │          \u001b[38;5;34m14,400\u001b[0m │\n",
       "├──────────────────────────────────────┼─────────────────────────────┼─────────────────┤\n",
       "│ dense_4 (\u001b[38;5;33mDense\u001b[0m)                      │ (\u001b[38;5;45mNone\u001b[0m, \u001b[38;5;34m15\u001b[0m)                  │             \u001b[38;5;34m975\u001b[0m │\n",
       "└──────────────────────────────────────┴─────────────────────────────┴─────────────────┘\n"
      ]
     },
     "metadata": {},
     "output_type": "display_data"
    },
    {
     "data": {
      "text/html": [
       "<pre style=\"white-space:pre;overflow-x:auto;line-height:normal;font-family:Menlo,'DejaVu Sans Mono',consolas,'Courier New',monospace\"><span style=\"font-weight: bold\"> Total params: </span><span style=\"color: #00af00; text-decoration-color: #00af00\">15,983</span> (62.43 KB)\n",
       "</pre>\n"
      ],
      "text/plain": [
       "\u001b[1m Total params: \u001b[0m\u001b[38;5;34m15,983\u001b[0m (62.43 KB)\n"
      ]
     },
     "metadata": {},
     "output_type": "display_data"
    },
    {
     "data": {
      "text/html": [
       "<pre style=\"white-space:pre;overflow-x:auto;line-height:normal;font-family:Menlo,'DejaVu Sans Mono',consolas,'Courier New',monospace\"><span style=\"font-weight: bold\"> Trainable params: </span><span style=\"color: #00af00; text-decoration-color: #00af00\">15,983</span> (62.43 KB)\n",
       "</pre>\n"
      ],
      "text/plain": [
       "\u001b[1m Trainable params: \u001b[0m\u001b[38;5;34m15,983\u001b[0m (62.43 KB)\n"
      ]
     },
     "metadata": {},
     "output_type": "display_data"
    },
    {
     "data": {
      "text/html": [
       "<pre style=\"white-space:pre;overflow-x:auto;line-height:normal;font-family:Menlo,'DejaVu Sans Mono',consolas,'Courier New',monospace\"><span style=\"font-weight: bold\"> Non-trainable params: </span><span style=\"color: #00af00; text-decoration-color: #00af00\">0</span> (0.00 B)\n",
       "</pre>\n"
      ],
      "text/plain": [
       "\u001b[1m Non-trainable params: \u001b[0m\u001b[38;5;34m0\u001b[0m (0.00 B)\n"
      ]
     },
     "metadata": {},
     "output_type": "display_data"
    }
   ],
   "source": [
    "# Get number of output classes (15)\n",
    "n_classes = y_train.shape[1]\n",
    "\n",
    "# Build CNN model\n",
    "from tensorflow.keras.models import Sequential\n",
    "from tensorflow.keras.layers import Conv1D, MaxPooling1D, Flatten, Dense\n",
    "\n",
    "model = Sequential([\n",
    "    Conv1D(filters=32, kernel_size=2, activation='relu', input_shape=(15, 9)),\n",
    "    MaxPooling1D(pool_size=2),\n",
    "    Flatten(),\n",
    "    Dense(64, activation='relu'),\n",
    "    Dense(n_classes, activation='softmax')\n",
    "])\n",
    "\n",
    "# Display model summary\n",
    "model.summary()\n"
   ]
  },
  {
   "cell_type": "markdown",
   "id": "a0be30ee-8240-41b3-8391-3dc255a58225",
   "metadata": {},
   "source": [
    "# 9. Compile and Train Model"
   ]
  },
  {
   "cell_type": "markdown",
   "id": "d691b0d3-e912-423d-b721-9807d8e184e7",
   "metadata": {},
   "source": [
    "### The model is compiled with appropriate loss and optimizer settings, and then trained using categorical target labels. A small number of epochs and moderate batch size are used to begin experimentation."
   ]
  },
  {
   "cell_type": "code",
   "execution_count": 52,
   "id": "302e5268-2d06-4bdf-8054-bceeb6ee4469",
   "metadata": {},
   "outputs": [
    {
     "name": "stdout",
     "output_type": "stream",
     "text": [
      "Epoch 1/10\n",
      "\u001b[1m918/918\u001b[0m \u001b[32m━━━━━━━━━━━━━━━━━━━━\u001b[0m\u001b[37m\u001b[0m \u001b[1m5s\u001b[0m 4ms/step - accuracy: 0.5838 - loss: 1.5700 - val_accuracy: 0.6452 - val_loss: 1.2277\n",
      "Epoch 2/10\n",
      "\u001b[1m918/918\u001b[0m \u001b[32m━━━━━━━━━━━━━━━━━━━━\u001b[0m\u001b[37m\u001b[0m \u001b[1m3s\u001b[0m 3ms/step - accuracy: 0.6374 - loss: 1.2245 - val_accuracy: 0.6471 - val_loss: 1.2051\n",
      "Epoch 3/10\n",
      "\u001b[1m918/918\u001b[0m \u001b[32m━━━━━━━━━━━━━━━━━━━━\u001b[0m\u001b[37m\u001b[0m \u001b[1m3s\u001b[0m 3ms/step - accuracy: 0.6459 - loss: 1.1629 - val_accuracy: 0.6476 - val_loss: 1.1873\n",
      "Epoch 4/10\n",
      "\u001b[1m918/918\u001b[0m \u001b[32m━━━━━━━━━━━━━━━━━━━━\u001b[0m\u001b[37m\u001b[0m \u001b[1m3s\u001b[0m 3ms/step - accuracy: 0.6473 - loss: 1.1412 - val_accuracy: 0.6476 - val_loss: 1.2005\n",
      "Epoch 5/10\n",
      "\u001b[1m918/918\u001b[0m \u001b[32m━━━━━━━━━━━━━━━━━━━━\u001b[0m\u001b[37m\u001b[0m \u001b[1m3s\u001b[0m 3ms/step - accuracy: 0.6398 - loss: 1.1644 - val_accuracy: 0.6465 - val_loss: 1.1908\n",
      "Epoch 6/10\n",
      "\u001b[1m918/918\u001b[0m \u001b[32m━━━━━━━━━━━━━━━━━━━━\u001b[0m\u001b[37m\u001b[0m \u001b[1m3s\u001b[0m 3ms/step - accuracy: 0.6411 - loss: 1.1559 - val_accuracy: 0.6452 - val_loss: 1.1934\n",
      "Epoch 7/10\n",
      "\u001b[1m918/918\u001b[0m \u001b[32m━━━━━━━━━━━━━━━━━━━━\u001b[0m\u001b[37m\u001b[0m \u001b[1m3s\u001b[0m 4ms/step - accuracy: 0.6404 - loss: 1.1372 - val_accuracy: 0.6441 - val_loss: 1.2011\n",
      "Epoch 8/10\n",
      "\u001b[1m918/918\u001b[0m \u001b[32m━━━━━━━━━━━━━━━━━━━━\u001b[0m\u001b[37m\u001b[0m \u001b[1m3s\u001b[0m 3ms/step - accuracy: 0.6458 - loss: 1.1229 - val_accuracy: 0.6422 - val_loss: 1.2201\n",
      "Epoch 9/10\n",
      "\u001b[1m918/918\u001b[0m \u001b[32m━━━━━━━━━━━━━━━━━━━━\u001b[0m\u001b[37m\u001b[0m \u001b[1m3s\u001b[0m 3ms/step - accuracy: 0.6448 - loss: 1.1119 - val_accuracy: 0.6356 - val_loss: 1.2536\n",
      "Epoch 10/10\n",
      "\u001b[1m918/918\u001b[0m \u001b[32m━━━━━━━━━━━━━━━━━━━━\u001b[0m\u001b[37m\u001b[0m \u001b[1m3s\u001b[0m 3ms/step - accuracy: 0.6478 - loss: 1.0889 - val_accuracy: 0.6413 - val_loss: 1.2475\n"
     ]
    }
   ],
   "source": [
    "# Convert multi-label rows (15 binary values) into a single class index per row\n",
    "y_train_idx = np.argmax(y_train, axis=1)\n",
    "y_test_idx = np.argmax(y_test, axis=1)\n",
    "\n",
    "# One-hot encode class index labels for use with categorical_crossentropy\n",
    "y_train_cat = tf.keras.utils.to_categorical(y_train_idx, num_classes=15)\n",
    "y_test_cat = tf.keras.utils.to_categorical(y_test_idx, num_classes=15)\n",
    "\n",
    "# Compile the model\n",
    "model.compile(\n",
    "    optimizer='adam',\n",
    "    loss='categorical_crossentropy',\n",
    "    metrics=['accuracy']\n",
    ")\n",
    "\n",
    "# Train the model\n",
    "history = model.fit(\n",
    "    X_train, y_train_cat,\n",
    "    epochs=10,\n",
    "    batch_size=16,\n",
    "    validation_split=0.2\n",
    ")\n"
   ]
  },
  {
   "cell_type": "markdown",
   "id": "6d47fc14-b2c2-4fdf-a1e5-e2786ac9a95f",
   "metadata": {},
   "source": [
    "# 10. Evaluate Model Performance"
   ]
  },
  {
   "cell_type": "markdown",
   "id": "04615595-2597-4ea9-b8ce-9fb621ffe5a0",
   "metadata": {},
   "source": [
    "### The model’s accuracy is evaluated on the test set to determine how well it generalizes to unseen weather patterns."
   ]
  },
  {
   "cell_type": "code",
   "execution_count": 54,
   "id": "529eb5c2-0fab-41d0-b3d6-efe85c34c78b",
   "metadata": {},
   "outputs": [
    {
     "name": "stdout",
     "output_type": "stream",
     "text": [
      "\u001b[1m144/144\u001b[0m \u001b[32m━━━━━━━━━━━━━━━━━━━━\u001b[0m\u001b[37m\u001b[0m \u001b[1m0s\u001b[0m 3ms/step - accuracy: 0.6440 - loss: 1.2347 \n",
      "✅ Test Accuracy: 0.6375\n",
      "❌ Test Loss: 1.2604\n"
     ]
    }
   ],
   "source": [
    "# Evaluate performance on the test set\n",
    "test_loss, test_accuracy = model.evaluate(X_test, y_test_cat)\n",
    "\n",
    "print(f\"✅ Test Accuracy: {test_accuracy:.4f}\")\n",
    "print(f\"❌ Test Loss: {test_loss:.4f}\")\n"
   ]
  },
  {
   "cell_type": "markdown",
   "id": "4da4fc86-7568-4417-b7a7-3a8c9a6b7bbb",
   "metadata": {},
   "source": [
    "# 11. Confusion Matrix and Results "
   ]
  },
  {
   "cell_type": "markdown",
   "id": "567bafb0-2760-4f52-8d6b-e165bc386411",
   "metadata": {},
   "source": [
    "### A confusion matrix is used to visualize the model’s ability to correctly classify weather patterns across all 15 stations."
   ]
  },
  {
   "cell_type": "code",
   "execution_count": 55,
   "id": "b2c8397c-8af7-40b9-b069-67c89f59e2b7",
   "metadata": {},
   "outputs": [
    {
     "name": "stdout",
     "output_type": "stream",
     "text": [
      "\u001b[1m144/144\u001b[0m \u001b[32m━━━━━━━━━━━━━━━━━━━━\u001b[0m\u001b[37m\u001b[0m \u001b[1m0s\u001b[0m 3ms/step  \n"
     ]
    },
    {
     "data": {
      "image/png": "[encoded data removed]",
      "text/plain": [
       "<Figure size 640x480 with 2 Axes>"
      ]
     },
     "metadata": {},
     "output_type": "display_data"
    }
   ],
   "source": [
    "# Predict on the test set\n",
    "y_pred_probs = model.predict(X_test)\n",
    "y_pred_labels = np.argmax(y_pred_probs, axis=1)\n",
    "y_true_labels = np.argmax(y_test_cat, axis=1)\n",
    "\n",
    "# Generate confusion matrix\n",
    "cm = confusion_matrix(y_true_labels, y_pred_labels)\n",
    "\n",
    "# Display confusion matrix\n",
    "disp = ConfusionMatrixDisplay(confusion_matrix=cm)\n",
    "disp.plot(xticks_rotation='vertical')\n",
    "plt.title(\"Confusion Matrix – CNN Model\")\n",
    "plt.tight_layout()\n",
    "plt.show()\n"
   ]
  },
  {
   "cell_type": "code",
   "execution_count": 56,
   "id": "c83e8771-fa49-4de7-b56f-506c6bb31154",
   "metadata": {},
   "outputs": [
    {
     "data": {
      "image/png": "[encoded data removed]",
      "text/plain": [
       "<Figure size 640x480 with 2 Axes>"
      ]
     },
     "metadata": {},
     "output_type": "display_data"
    }
   ],
   "source": [
    "# Save RNN confusion matrix image\n",
    "disp = ConfusionMatrixDisplay(confusion_matrix=cm)\n",
    "disp.plot(xticks_rotation='vertical')\n",
    "plt.title(\"Confusion Matrix – RNN Model\")\n",
    "plt.tight_layout()\n",
    "plt.savefig(\"RNN_confusion_matrix.png\")  # 🔽 This saves the image\n",
    "plt.show()\n"
   ]
  },
  {
   "cell_type": "markdown",
   "id": "cf691e6d-74ef-4200-a896-da7cb90224d3",
   "metadata": {},
   "source": [
    "# ✅ Final Summary – CNN Model for Weather Pattern Prediction\n",
    "\n",
    "This notebook explored deep learning using a 1D Convolutional Neural Network (CNN) to classify pleasant weather patterns across 15 weather stations.\n",
    "\n",
    "### Key Steps Performed:\n",
    "- Cleaned and preprocessed the weather dataset to match the required shape:\n",
    "  - Input shape: **(22950, 15, 9)**\n",
    "  - Label shape: **(22950, 15)** → converted to single class indices\n",
    "- Built a CNN model architecture using:\n",
    "  - `Conv1D → MaxPooling1D → Flatten → Dense(64) → Dense(15 softmax)`\n",
    "- Trained the model over **10 epochs** with **batch size 16** using categorical crossentropy\n",
    "- Achieved:\n",
    "  - **Training Accuracy:** ~64.7%\n",
    "  - **Validation Accuracy:** ~64.0%\n",
    "  - **Test Accuracy:** **~63.5%**\n",
    "- Visualized results using a **confusion matrix**:\n",
    "  - Model performs well on dominant stations (especially class 0)\n",
    "  - Underperformance on others suggests class imbalance or the need for further tuning\n",
    "\n",
    "This model will be further compared with an RNN/LSTM-based model in the next notebook.\n"
   ]
  }
 ],
 "metadata": {
  "kernelspec": {
   "display_name": "Python (tf_env)",
   "language": "python",
   "name": "tf_env"
  },
  "language_info": {
   "codemirror_mode": {
    "name": "ipython",
    "version": 3
   },
   "file_extension": ".py",
   "mimetype": "text/x-python",
   "name": "python",
   "nbconvert_exporter": "python",
   "pygments_lexer": "ipython3",
   "version": "3.11.0"
  }
 },
 "nbformat": 4,
 "nbformat_minor": 5
}
