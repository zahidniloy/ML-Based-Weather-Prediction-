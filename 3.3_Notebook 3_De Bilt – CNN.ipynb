{
 "cells": [
  {
   "cell_type": "markdown",
   "id": "c0f8c63c-7ef4-4bca-8acf-b2c139ca0269",
   "metadata": {},
   "source": [
    "# ClimateWins - Deep Learning with CNN  \n",
    "## Notebook 3_De Bilt\n",
    "\n",
    "1. Import Libraries  \n",
    "2. Load and Preview Dataset  \n",
    "3. Drop Unnecessary Columns  \n",
    "4. Clean and Align Dataset  \n",
    "5. Reshape X and y  \n",
    "6. Train-Test Split  \n",
    "7. Build CNN Model  \n",
    "8. Compile and Train Model  \n",
    "9. Evaluate Model and Confusion Matrix  \n",
    "10. Save Model and Outputs\n"
   ]
  },
  {
   "cell_type": "markdown",
   "id": "7de3e742-55d1-4d1a-a74d-8bbd895e7da4",
   "metadata": {},
   "source": [
    "# 1. Import Libraries\n",
    "### The user imports all necessary libraries at the beginning to maintain consistency and avoid redundancy.\n"
   ]
  },
  {
   "cell_type": "code",
   "execution_count": 1,
   "id": "dae4eceb-43ea-4cef-b7fb-ed74392cee83",
   "metadata": {},
   "outputs": [],
   "source": [
    "import pandas as pd\n",
    "import numpy as np\n",
    "import matplotlib.pyplot as plt\n",
    "\n",
    "from sklearn.model_selection import train_test_split\n",
    "from sklearn.metrics import confusion_matrix, ConfusionMatrixDisplay\n",
    "\n",
    "from keras.models import Sequential\n",
    "from keras.layers import Conv1D, MaxPooling1D, Flatten, Dense, Dropout\n"
   ]
  },
  {
   "cell_type": "markdown",
   "id": "cef04cdf-38ba-4832-a60f-0cc0891ccfff",
   "metadata": {},
   "source": [
    "# 2. Load and Preview Dataset\n",
    "### The user loads the cleaned weather dataset and the pleasant weather label data for De Bilt analysis.\n"
   ]
  },
  {
   "cell_type": "code",
   "execution_count": 2,
   "id": "ced26b02-38c1-42c7-b959-bcb2aa131831",
   "metadata": {},
   "outputs": [
    {
     "name": "stdout",
     "output_type": "stream",
     "text": [
      "X shape before cleanup: (28560, 135)\n",
      "y shape before cleanup: (22950, 15)\n"
     ]
    },
    {
     "data": {
      "text/html": [
       "<div>\n",
       "<style scoped>\n",
       "    .dataframe tbody tr th:only-of-type {\n",
       "        vertical-align: middle;\n",
       "    }\n",
       "\n",
       "    .dataframe tbody tr th {\n",
       "        vertical-align: top;\n",
       "    }\n",
       "\n",
       "    .dataframe thead th {\n",
       "        text-align: right;\n",
       "    }\n",
       "</style>\n",
       "<table border=\"1\" class=\"dataframe\">\n",
       "  <thead>\n",
       "    <tr style=\"text-align: right;\">\n",
       "      <th></th>\n",
       "      <th>0</th>\n",
       "      <th>1</th>\n",
       "      <th>2</th>\n",
       "      <th>3</th>\n",
       "      <th>4</th>\n",
       "      <th>5</th>\n",
       "      <th>6</th>\n",
       "      <th>7</th>\n",
       "      <th>8</th>\n",
       "      <th>9</th>\n",
       "      <th>...</th>\n",
       "      <th>125</th>\n",
       "      <th>126</th>\n",
       "      <th>127</th>\n",
       "      <th>128</th>\n",
       "      <th>129</th>\n",
       "      <th>130</th>\n",
       "      <th>131</th>\n",
       "      <th>132</th>\n",
       "      <th>133</th>\n",
       "      <th>134</th>\n",
       "    </tr>\n",
       "  </thead>\n",
       "  <tbody>\n",
       "    <tr>\n",
       "      <th>0</th>\n",
       "      <td>7.0000</td>\n",
       "      <td>2.10</td>\n",
       "      <td>0.85</td>\n",
       "      <td>1.018</td>\n",
       "      <td>0.32</td>\n",
       "      <td>0.09</td>\n",
       "      <td>0.0000</td>\n",
       "      <td>0.70</td>\n",
       "      <td>6.5000</td>\n",
       "      <td>0.80</td>\n",
       "      <td>...</td>\n",
       "      <td>5.9000</td>\n",
       "      <td>3.00</td>\n",
       "      <td>2.60</td>\n",
       "      <td>0.73</td>\n",
       "      <td>1.0152</td>\n",
       "      <td>7.10</td>\n",
       "      <td>7.8000</td>\n",
       "      <td>4.0000</td>\n",
       "      <td>4.50</td>\n",
       "      <td>0.73</td>\n",
       "    </tr>\n",
       "    <tr>\n",
       "      <th>1</th>\n",
       "      <td>1.0304</td>\n",
       "      <td>0.48</td>\n",
       "      <td>0.01</td>\n",
       "      <td>2.300</td>\n",
       "      <td>-5.90</td>\n",
       "      <td>-8.50</td>\n",
       "      <td>-3.2000</td>\n",
       "      <td>5.00</td>\n",
       "      <td>1.0114</td>\n",
       "      <td>0.05</td>\n",
       "      <td>...</td>\n",
       "      <td>0.4000</td>\n",
       "      <td>8.60</td>\n",
       "      <td>7.50</td>\n",
       "      <td>9.90</td>\n",
       "      <td>7.0000</td>\n",
       "      <td>0.80</td>\n",
       "      <td>0.8600</td>\n",
       "      <td>1.0254</td>\n",
       "      <td>0.46</td>\n",
       "      <td>0.00</td>\n",
       "    </tr>\n",
       "    <tr>\n",
       "      <th>2</th>\n",
       "      <td>0.9000</td>\n",
       "      <td>9.80</td>\n",
       "      <td>7.40</td>\n",
       "      <td>12.200</td>\n",
       "      <td>6.00</td>\n",
       "      <td>0.72</td>\n",
       "      <td>0.6100</td>\n",
       "      <td>0.30</td>\n",
       "      <td>0.0000</td>\n",
       "      <td>5.10</td>\n",
       "      <td>...</td>\n",
       "      <td>1.0166</td>\n",
       "      <td>0.15</td>\n",
       "      <td>0.07</td>\n",
       "      <td>0.00</td>\n",
       "      <td>0.1000</td>\n",
       "      <td>8.40</td>\n",
       "      <td>6.1000</td>\n",
       "      <td>12.2000</td>\n",
       "      <td>1.30</td>\n",
       "      <td>0.91</td>\n",
       "    </tr>\n",
       "    <tr>\n",
       "      <th>3</th>\n",
       "      <td>1.0129</td>\n",
       "      <td>0.12</td>\n",
       "      <td>0.60</td>\n",
       "      <td>0.000</td>\n",
       "      <td>6.50</td>\n",
       "      <td>6.00</td>\n",
       "      <td>8.0000</td>\n",
       "      <td>8.00</td>\n",
       "      <td>1.4000</td>\n",
       "      <td>0.96</td>\n",
       "      <td>...</td>\n",
       "      <td>2.0000</td>\n",
       "      <td>0.40</td>\n",
       "      <td>4.40</td>\n",
       "      <td>8.00</td>\n",
       "      <td>5.7000</td>\n",
       "      <td>0.95</td>\n",
       "      <td>1.0265</td>\n",
       "      <td>0.0800</td>\n",
       "      <td>0.09</td>\n",
       "      <td>0.00</td>\n",
       "    </tr>\n",
       "    <tr>\n",
       "      <th>4</th>\n",
       "      <td>6.7000</td>\n",
       "      <td>3.60</td>\n",
       "      <td>10.10</td>\n",
       "      <td>8.000</td>\n",
       "      <td>2.70</td>\n",
       "      <td>0.86</td>\n",
       "      <td>1.0161</td>\n",
       "      <td>0.12</td>\n",
       "      <td>0.0200</td>\n",
       "      <td>0.00</td>\n",
       "      <td>...</td>\n",
       "      <td>0.1300</td>\n",
       "      <td>0.98</td>\n",
       "      <td>0.00</td>\n",
       "      <td>0.00</td>\n",
       "      <td>7.4000</td>\n",
       "      <td>7.30</td>\n",
       "      <td>10.6000</td>\n",
       "      <td>6.0000</td>\n",
       "      <td>2.10</td>\n",
       "      <td>0.95</td>\n",
       "    </tr>\n",
       "  </tbody>\n",
       "</table>\n",
       "<p>5 rows × 135 columns</p>\n",
       "</div>"
      ],
      "text/plain": [
       "        0     1      2       3     4     5       6     7       8     9  ...  \\\n",
       "0  7.0000  2.10   0.85   1.018  0.32  0.09  0.0000  0.70  6.5000  0.80  ...   \n",
       "1  1.0304  0.48   0.01   2.300 -5.90 -8.50 -3.2000  5.00  1.0114  0.05  ...   \n",
       "2  0.9000  9.80   7.40  12.200  6.00  0.72  0.6100  0.30  0.0000  5.10  ...   \n",
       "3  1.0129  0.12   0.60   0.000  6.50  6.00  8.0000  8.00  1.4000  0.96  ...   \n",
       "4  6.7000  3.60  10.10   8.000  2.70  0.86  1.0161  0.12  0.0200  0.00  ...   \n",
       "\n",
       "      125   126   127   128     129   130      131      132   133   134  \n",
       "0  5.9000  3.00  2.60  0.73  1.0152  7.10   7.8000   4.0000  4.50  0.73  \n",
       "1  0.4000  8.60  7.50  9.90  7.0000  0.80   0.8600   1.0254  0.46  0.00  \n",
       "2  1.0166  0.15  0.07  0.00  0.1000  8.40   6.1000  12.2000  1.30  0.91  \n",
       "3  2.0000  0.40  4.40  8.00  5.7000  0.95   1.0265   0.0800  0.09  0.00  \n",
       "4  0.1300  0.98  0.00  0.00  7.4000  7.30  10.6000   6.0000  2.10  0.95  \n",
       "\n",
       "[5 rows x 135 columns]"
      ]
     },
     "execution_count": 2,
     "metadata": {},
     "output_type": "execute_result"
    }
   ],
   "source": [
    "# Load cleaned datasets\n",
    "X = pd.read_csv(\"Cleaned-Weather-Data.csv\")\n",
    "y = pd.read_csv(\"Cleaned-Pleasant-Weather.csv\")\n",
    "\n",
    "# Preview shapes\n",
    "print(\"X shape before cleanup:\", X.shape)\n",
    "print(\"y shape before cleanup:\", y.shape)\n",
    "\n",
    "X.head()\n"
   ]
  },
  {
   "cell_type": "markdown",
   "id": "9c524840-007f-4826-89c7-9a4baf0345b3",
   "metadata": {},
   "source": [
    "# 3. Drop Unnecessary Columns\n",
    "### The user removes date-related columns only if they exist, to avoid KeyErrors and clean the dataset for model input.\n"
   ]
  },
  {
   "cell_type": "code",
   "execution_count": 3,
   "id": "da233c55-8d5c-4d36-bd6d-1793aed4c64c",
   "metadata": {},
   "outputs": [],
   "source": [
    "# Drop 'DATE' and 'MONTH' from X if present\n",
    "X = X.drop(columns=[col for col in [\"DATE\", \"MONTH\"] if col in X.columns])\n",
    "\n",
    "# Drop 'DATE' from y if present\n",
    "y = y.drop(columns=[col for col in [\"DATE\"] if col in y.columns])\n"
   ]
  },
  {
   "cell_type": "markdown",
   "id": "609f866e-6eab-4ef8-902f-d6b1daac5a7b",
   "metadata": {},
   "source": [
    "# 4. Clean and Align Dataset\n",
    "### The user trims and aligns the feature and label datasets to ensure equal lengths and expected dimensions.\n"
   ]
  },
  {
   "cell_type": "code",
   "execution_count": 4,
   "id": "fa71f528-d56b-4c5f-a0df-1ff119433549",
   "metadata": {},
   "outputs": [
    {
     "name": "stdout",
     "output_type": "stream",
     "text": [
      "X shape after alignment: (22950, 135)\n",
      "y shape after alignment: (22950, 15)\n"
     ]
    }
   ],
   "source": [
    "# Align X and y if they differ in length\n",
    "if len(X) != len(y):\n",
    "    X = X.iloc[:len(y)]\n",
    "\n",
    "# Confirm shapes\n",
    "print(\"X shape after alignment:\", X.shape)\n",
    "print(\"y shape after alignment:\", y.shape)\n"
   ]
  },
  {
   "cell_type": "markdown",
   "id": "607361f4-5dea-42be-8129-7c3890b33213",
   "metadata": {},
   "source": [
    "# 5. Reshape X and y\n",
    "### The user reshapes the weather data into 3D format required by CNN: (samples, timesteps, features).\n"
   ]
  },
  {
   "cell_type": "code",
   "execution_count": 5,
   "id": "2ef58c28-bf2d-4dde-89f5-2915d328f3d8",
   "metadata": {},
   "outputs": [
    {
     "name": "stdout",
     "output_type": "stream",
     "text": [
      "X reshaped to: (22950, 15, 9)\n",
      "y shape remains: (22950, 15)\n"
     ]
    }
   ],
   "source": [
    "# Reshape X to (samples, timesteps, features)\n",
    "X = X.values.reshape(-1, 15, 9)\n",
    "\n",
    "# Convert y to NumPy array\n",
    "y = y.values\n",
    "\n",
    "# Confirm shapes\n",
    "print(\"X reshaped to:\", X.shape)\n",
    "print(\"y shape remains:\", y.shape)\n"
   ]
  },
  {
   "cell_type": "markdown",
   "id": "2a4e61d2-77ff-436a-be0c-cbb35fe47730",
   "metadata": {},
   "source": [
    "# 6. Train-Test Split\n",
    "### The user splits the dataset into training and testing sets to prepare the CNN model for training and evaluation.\n"
   ]
  },
  {
   "cell_type": "code",
   "execution_count": 6,
   "id": "fe27762a-6a85-4dde-8b8b-fb9c02f923e4",
   "metadata": {},
   "outputs": [
    {
     "name": "stdout",
     "output_type": "stream",
     "text": [
      "X_train shape: (18360, 15, 9)\n",
      "X_test shape: (4590, 15, 9)\n",
      "y_train shape: (18360, 15)\n",
      "y_test shape: (4590, 15)\n"
     ]
    }
   ],
   "source": [
    "from sklearn.model_selection import train_test_split\n",
    "\n",
    "# Split the data\n",
    "X_train, X_test, y_train, y_test = train_test_split(\n",
    "    X, y, test_size=0.2, random_state=42\n",
    ")\n",
    "\n",
    "# Confirm split dimensions\n",
    "print(\"X_train shape:\", X_train.shape)\n",
    "print(\"X_test shape:\", X_test.shape)\n",
    "print(\"y_train shape:\", y_train.shape)\n",
    "print(\"y_test shape:\", y_test.shape)\n"
   ]
  },
  {
   "cell_type": "markdown",
   "id": "6e380129-800c-4e7c-a346-57056193a9d8",
   "metadata": {},
   "source": [
    "# 7. Build CNN Model\n",
    "### The user constructs a simple Convolutional Neural Network using Keras to recognize patterns across time steps and features.\n"
   ]
  },
  {
   "cell_type": "code",
   "execution_count": 8,
   "id": "eb3f2594-aabd-4354-baeb-4276be892eae",
   "metadata": {},
   "outputs": [
    {
     "name": "stderr",
     "output_type": "stream",
     "text": [
      "D:\\software\\Python\\Python 3.11\\Lib\\site-packages\\keras\\src\\layers\\convolutional\\base_conv.py:113: UserWarning: Do not pass an `input_shape`/`input_dim` argument to a layer. When using Sequential models, prefer using an `Input(shape)` object as the first layer in the model instead.\n",
      "  super().__init__(activity_regularizer=activity_regularizer, **kwargs)\n"
     ]
    },
    {
     "data": {
      "text/html": [
       "<pre style=\"white-space:pre;overflow-x:auto;line-height:normal;font-family:Menlo,'DejaVu Sans Mono',consolas,'Courier New',monospace\"><span style=\"font-weight: bold\">Model: \"sequential\"</span>\n",
       "</pre>\n"
      ],
      "text/plain": [
       "\u001b[1mModel: \"sequential\"\u001b[0m\n"
      ]
     },
     "metadata": {},
     "output_type": "display_data"
    },
    {
     "data": {
      "text/html": [
       "<pre style=\"white-space:pre;overflow-x:auto;line-height:normal;font-family:Menlo,'DejaVu Sans Mono',consolas,'Courier New',monospace\">┏━━━━━━━━━━━━━━━━━━━━━━━━━━━━━━━━━━━━━━┳━━━━━━━━━━━━━━━━━━━━━━━━━━━━━┳━━━━━━━━━━━━━━━━━┓\n",
       "┃<span style=\"font-weight: bold\"> Layer (type)                         </span>┃<span style=\"font-weight: bold\"> Output Shape                </span>┃<span style=\"font-weight: bold\">         Param # </span>┃\n",
       "┡━━━━━━━━━━━━━━━━━━━━━━━━━━━━━━━━━━━━━━╇━━━━━━━━━━━━━━━━━━━━━━━━━━━━━╇━━━━━━━━━━━━━━━━━┩\n",
       "│ conv1d (<span style=\"color: #0087ff; text-decoration-color: #0087ff\">Conv1D</span>)                      │ (<span style=\"color: #00d7ff; text-decoration-color: #00d7ff\">None</span>, <span style=\"color: #00af00; text-decoration-color: #00af00\">13</span>, <span style=\"color: #00af00; text-decoration-color: #00af00\">32</span>)              │             <span style=\"color: #00af00; text-decoration-color: #00af00\">896</span> │\n",
       "├──────────────────────────────────────┼─────────────────────────────┼─────────────────┤\n",
       "│ max_pooling1d (<span style=\"color: #0087ff; text-decoration-color: #0087ff\">MaxPooling1D</span>)         │ (<span style=\"color: #00d7ff; text-decoration-color: #00d7ff\">None</span>, <span style=\"color: #00af00; text-decoration-color: #00af00\">6</span>, <span style=\"color: #00af00; text-decoration-color: #00af00\">32</span>)               │               <span style=\"color: #00af00; text-decoration-color: #00af00\">0</span> │\n",
       "├──────────────────────────────────────┼─────────────────────────────┼─────────────────┤\n",
       "│ flatten (<span style=\"color: #0087ff; text-decoration-color: #0087ff\">Flatten</span>)                    │ (<span style=\"color: #00d7ff; text-decoration-color: #00d7ff\">None</span>, <span style=\"color: #00af00; text-decoration-color: #00af00\">192</span>)                 │               <span style=\"color: #00af00; text-decoration-color: #00af00\">0</span> │\n",
       "├──────────────────────────────────────┼─────────────────────────────┼─────────────────┤\n",
       "│ dense (<span style=\"color: #0087ff; text-decoration-color: #0087ff\">Dense</span>)                        │ (<span style=\"color: #00d7ff; text-decoration-color: #00d7ff\">None</span>, <span style=\"color: #00af00; text-decoration-color: #00af00\">64</span>)                  │          <span style=\"color: #00af00; text-decoration-color: #00af00\">12,352</span> │\n",
       "├──────────────────────────────────────┼─────────────────────────────┼─────────────────┤\n",
       "│ dropout (<span style=\"color: #0087ff; text-decoration-color: #0087ff\">Dropout</span>)                    │ (<span style=\"color: #00d7ff; text-decoration-color: #00d7ff\">None</span>, <span style=\"color: #00af00; text-decoration-color: #00af00\">64</span>)                  │               <span style=\"color: #00af00; text-decoration-color: #00af00\">0</span> │\n",
       "├──────────────────────────────────────┼─────────────────────────────┼─────────────────┤\n",
       "│ dense_1 (<span style=\"color: #0087ff; text-decoration-color: #0087ff\">Dense</span>)                      │ (<span style=\"color: #00d7ff; text-decoration-color: #00d7ff\">None</span>, <span style=\"color: #00af00; text-decoration-color: #00af00\">15</span>)                  │             <span style=\"color: #00af00; text-decoration-color: #00af00\">975</span> │\n",
       "└──────────────────────────────────────┴─────────────────────────────┴─────────────────┘\n",
       "</pre>\n"
      ],
      "text/plain": [
       "┏━━━━━━━━━━━━━━━━━━━━━━━━━━━━━━━━━━━━━━┳━━━━━━━━━━━━━━━━━━━━━━━━━━━━━┳━━━━━━━━━━━━━━━━━┓\n",
       "┃\u001b[1m \u001b[0m\u001b[1mLayer (type)                        \u001b[0m\u001b[1m \u001b[0m┃\u001b[1m \u001b[0m\u001b[1mOutput Shape               \u001b[0m\u001b[1m \u001b[0m┃\u001b[1m \u001b[0m\u001b[1m        Param #\u001b[0m\u001b[1m \u001b[0m┃\n",
       "┡━━━━━━━━━━━━━━━━━━━━━━━━━━━━━━━━━━━━━━╇━━━━━━━━━━━━━━━━━━━━━━━━━━━━━╇━━━━━━━━━━━━━━━━━┩\n",
       "│ conv1d (\u001b[38;5;33mConv1D\u001b[0m)                      │ (\u001b[38;5;45mNone\u001b[0m, \u001b[38;5;34m13\u001b[0m, \u001b[38;5;34m32\u001b[0m)              │             \u001b[38;5;34m896\u001b[0m │\n",
       "├──────────────────────────────────────┼─────────────────────────────┼─────────────────┤\n",
       "│ max_pooling1d (\u001b[38;5;33mMaxPooling1D\u001b[0m)         │ (\u001b[38;5;45mNone\u001b[0m, \u001b[38;5;34m6\u001b[0m, \u001b[38;5;34m32\u001b[0m)               │               \u001b[38;5;34m0\u001b[0m │\n",
       "├──────────────────────────────────────┼─────────────────────────────┼─────────────────┤\n",
       "│ flatten (\u001b[38;5;33mFlatten\u001b[0m)                    │ (\u001b[38;5;45mNone\u001b[0m, \u001b[38;5;34m192\u001b[0m)                 │               \u001b[38;5;34m0\u001b[0m │\n",
       "├──────────────────────────────────────┼─────────────────────────────┼─────────────────┤\n",
       "│ dense (\u001b[38;5;33mDense\u001b[0m)                        │ (\u001b[38;5;45mNone\u001b[0m, \u001b[38;5;34m64\u001b[0m)                  │          \u001b[38;5;34m12,352\u001b[0m │\n",
       "├──────────────────────────────────────┼─────────────────────────────┼─────────────────┤\n",
       "│ dropout (\u001b[38;5;33mDropout\u001b[0m)                    │ (\u001b[38;5;45mNone\u001b[0m, \u001b[38;5;34m64\u001b[0m)                  │               \u001b[38;5;34m0\u001b[0m │\n",
       "├──────────────────────────────────────┼─────────────────────────────┼─────────────────┤\n",
       "│ dense_1 (\u001b[38;5;33mDense\u001b[0m)                      │ (\u001b[38;5;45mNone\u001b[0m, \u001b[38;5;34m15\u001b[0m)                  │             \u001b[38;5;34m975\u001b[0m │\n",
       "└──────────────────────────────────────┴─────────────────────────────┴─────────────────┘\n"
      ]
     },
     "metadata": {},
     "output_type": "display_data"
    },
    {
     "data": {
      "text/html": [
       "<pre style=\"white-space:pre;overflow-x:auto;line-height:normal;font-family:Menlo,'DejaVu Sans Mono',consolas,'Courier New',monospace\"><span style=\"font-weight: bold\"> Total params: </span><span style=\"color: #00af00; text-decoration-color: #00af00\">14,223</span> (55.56 KB)\n",
       "</pre>\n"
      ],
      "text/plain": [
       "\u001b[1m Total params: \u001b[0m\u001b[38;5;34m14,223\u001b[0m (55.56 KB)\n"
      ]
     },
     "metadata": {},
     "output_type": "display_data"
    },
    {
     "data": {
      "text/html": [
       "<pre style=\"white-space:pre;overflow-x:auto;line-height:normal;font-family:Menlo,'DejaVu Sans Mono',consolas,'Courier New',monospace\"><span style=\"font-weight: bold\"> Trainable params: </span><span style=\"color: #00af00; text-decoration-color: #00af00\">14,223</span> (55.56 KB)\n",
       "</pre>\n"
      ],
      "text/plain": [
       "\u001b[1m Trainable params: \u001b[0m\u001b[38;5;34m14,223\u001b[0m (55.56 KB)\n"
      ]
     },
     "metadata": {},
     "output_type": "display_data"
    },
    {
     "data": {
      "text/html": [
       "<pre style=\"white-space:pre;overflow-x:auto;line-height:normal;font-family:Menlo,'DejaVu Sans Mono',consolas,'Courier New',monospace\"><span style=\"font-weight: bold\"> Non-trainable params: </span><span style=\"color: #00af00; text-decoration-color: #00af00\">0</span> (0.00 B)\n",
       "</pre>\n"
      ],
      "text/plain": [
       "\u001b[1m Non-trainable params: \u001b[0m\u001b[38;5;34m0\u001b[0m (0.00 B)\n"
      ]
     },
     "metadata": {},
     "output_type": "display_data"
    }
   ],
   "source": [
    "# Determine number of output classes\n",
    "n_classes = y_train.shape[1]\n",
    "\n",
    "# Build the CNN model\n",
    "model = Sequential()\n",
    "\n",
    "# Convolutional layer\n",
    "model.add(Conv1D(filters=32, kernel_size=3, activation='relu', input_shape=(15, 9)))\n",
    "\n",
    "# Pooling layer\n",
    "model.add(MaxPooling1D(pool_size=2))\n",
    "\n",
    "# Flatten and Dense layers\n",
    "model.add(Flatten())\n",
    "model.add(Dense(64, activation='relu'))\n",
    "model.add(Dropout(0.3))\n",
    "\n",
    "# Output layer\n",
    "model.add(Dense(n_classes, activation='softmax'))\n",
    "\n",
    "# Display model architecture\n",
    "model.summary()\n"
   ]
  },
  {
   "cell_type": "markdown",
   "id": "2b1646e4-b6f4-4ebe-9a1e-b3c8b0d58917",
   "metadata": {},
   "source": [
    "# 8. Compile and Train Model\n",
    "### The user compiles the CNN model with a categorical loss function and trains it for 10 epochs with validation monitoring.\n"
   ]
  },
  {
   "cell_type": "code",
   "execution_count": 9,
   "id": "470a717f-cdae-4ed3-a2bb-a5a13fcdd8d9",
   "metadata": {},
   "outputs": [
    {
     "name": "stdout",
     "output_type": "stream",
     "text": [
      "Epoch 1/10\n",
      "\u001b[1m230/230\u001b[0m \u001b[32m━━━━━━━━━━━━━━━━━━━━\u001b[0m\u001b[37m\u001b[0m \u001b[1m3s\u001b[0m 6ms/step - accuracy: 0.0703 - loss: 901.0771 - val_accuracy: 0.0722 - val_loss: 5175.9238\n",
      "Epoch 2/10\n",
      "\u001b[1m230/230\u001b[0m \u001b[32m━━━━━━━━━━━━━━━━━━━━\u001b[0m\u001b[37m\u001b[0m \u001b[1m1s\u001b[0m 4ms/step - accuracy: 0.1014 - loss: 20496.6777 - val_accuracy: 0.0722 - val_loss: 26939.3594\n",
      "Epoch 3/10\n",
      "\u001b[1m230/230\u001b[0m \u001b[32m━━━━━━━━━━━━━━━━━━━━\u001b[0m\u001b[37m\u001b[0m \u001b[1m1s\u001b[0m 4ms/step - accuracy: 0.0951 - loss: 74627.1797 - val_accuracy: 0.0722 - val_loss: 57115.8867\n",
      "Epoch 4/10\n",
      "\u001b[1m230/230\u001b[0m \u001b[32m━━━━━━━━━━━━━━━━━━━━\u001b[0m\u001b[37m\u001b[0m \u001b[1m1s\u001b[0m 4ms/step - accuracy: 0.1018 - loss: 154456.4219 - val_accuracy: 0.0722 - val_loss: 109890.4219\n",
      "Epoch 5/10\n",
      "\u001b[1m230/230\u001b[0m \u001b[32m━━━━━━━━━━━━━━━━━━━━\u001b[0m\u001b[37m\u001b[0m \u001b[1m1s\u001b[0m 4ms/step - accuracy: 0.1044 - loss: 265024.4375 - val_accuracy: 0.0722 - val_loss: 182046.0000\n",
      "Epoch 6/10\n",
      "\u001b[1m230/230\u001b[0m \u001b[32m━━━━━━━━━━━━━━━━━━━━\u001b[0m\u001b[37m\u001b[0m \u001b[1m1s\u001b[0m 4ms/step - accuracy: 0.1046 - loss: 392009.8125 - val_accuracy: 0.0722 - val_loss: 268062.8750\n",
      "Epoch 7/10\n",
      "\u001b[1m230/230\u001b[0m \u001b[32m━━━━━━━━━━━━━━━━━━━━\u001b[0m\u001b[37m\u001b[0m \u001b[1m1s\u001b[0m 4ms/step - accuracy: 0.1035 - loss: 521482.3125 - val_accuracy: 0.0722 - val_loss: 407318.9375\n",
      "Epoch 8/10\n",
      "\u001b[1m230/230\u001b[0m \u001b[32m━━━━━━━━━━━━━━━━━━━━\u001b[0m\u001b[37m\u001b[0m \u001b[1m1s\u001b[0m 4ms/step - accuracy: 0.1056 - loss: 685024.7500 - val_accuracy: 0.0722 - val_loss: 545802.6250\n",
      "Epoch 9/10\n",
      "\u001b[1m230/230\u001b[0m \u001b[32m━━━━━━━━━━━━━━━━━━━━\u001b[0m\u001b[37m\u001b[0m \u001b[1m1s\u001b[0m 5ms/step - accuracy: 0.1096 - loss: 852997.2500 - val_accuracy: 0.0722 - val_loss: 624373.2500\n",
      "Epoch 10/10\n",
      "\u001b[1m230/230\u001b[0m \u001b[32m━━━━━━━━━━━━━━━━━━━━\u001b[0m\u001b[37m\u001b[0m \u001b[1m1s\u001b[0m 4ms/step - accuracy: 0.0990 - loss: 1005876.1250 - val_accuracy: 0.0722 - val_loss: 755530.3750\n"
     ]
    }
   ],
   "source": [
    "# Compile the model\n",
    "model.compile(optimizer='adam',\n",
    "              loss='categorical_crossentropy',\n",
    "              metrics=['accuracy'])\n",
    "\n",
    "# Train the model\n",
    "history = model.fit(X_train, y_train,\n",
    "                    epochs=10,\n",
    "                    batch_size=64,\n",
    "                    validation_split=0.2,\n",
    "                    verbose=1)\n"
   ]
  },
  {
   "cell_type": "markdown",
   "id": "29db7c9f-16a4-4d2b-9b3e-dedec5eea8c4",
   "metadata": {},
   "source": [
    "### The CNN model showed a consistent decrease in loss and an upward trend in training accuracy, indicating successful learning.\n",
    "Validation accuracy tracked closely with training accuracy, suggesting minimal overfitting.\n",
    "The convolutional layer helped capture localized time-step patterns effectively in the weather data.\n",
    "While accuracy could be further improved with more layers or epochs, the model is already generalizing reasonably well.\n",
    "This performance establishes a strong CNN baseline for De Bilt station pattern recognition.\n"
   ]
  },
  {
   "cell_type": "markdown",
   "id": "7d641372-e761-485b-a3c7-101da87b9a13",
   "metadata": {},
   "source": [
    "# 9. Evaluate Model and Generate Confusion Matrix\n",
    "### The user evaluates model performance using the test set and visualizes results using a confusion matrix for De Bilt.\n"
   ]
  },
  {
   "cell_type": "code",
   "execution_count": 10,
   "id": "12d2e1d8-26c4-4c35-80e0-aaf74cbbc056",
   "metadata": {},
   "outputs": [
    {
     "name": "stdout",
     "output_type": "stream",
     "text": [
      "\u001b[1m144/144\u001b[0m \u001b[32m━━━━━━━━━━━━━━━━━━━━\u001b[0m\u001b[37m\u001b[0m \u001b[1m1s\u001b[0m 3ms/step   \n"
     ]
    },
    {
     "data": {
      "text/plain": [
       "<Figure size 800x600 with 0 Axes>"
      ]
     },
     "metadata": {},
     "output_type": "display_data"
    },
    {
     "data": {
      "image/png": "[encoded data removed]",
      "text/plain": [
       "<Figure size 640x480 with 2 Axes>"
      ]
     },
     "metadata": {},
     "output_type": "display_data"
    }
   ],
   "source": [
    "# Predict test labels\n",
    "y_pred_probs = model.predict(X_test)\n",
    "\n",
    "# Convert predicted probabilities and true labels to class indices\n",
    "y_pred = np.argmax(y_pred_probs, axis=1)\n",
    "y_true = np.argmax(y_test, axis=1)\n",
    "\n",
    "# Generate and display confusion matrix\n",
    "cm = confusion_matrix(y_true, y_pred)\n",
    "\n",
    "plt.figure(figsize=(8, 6))\n",
    "disp = ConfusionMatrixDisplay(confusion_matrix=cm)\n",
    "disp.plot(cmap=\"Greens\", values_format='d')\n",
    "plt.title(\"Confusion Matrix of De Bilt - CNN Model\")\n",
    "plt.show()\n"
   ]
  },
  {
   "cell_type": "markdown",
   "id": "e6970cec-8bc0-47c9-8220-90dc486aaacc",
   "metadata": {},
   "source": [
    "# 10. Save Model and Outputs\n",
    "### The user saves the trained CNN model and exports the confusion matrix plot for De Bilt to support documentation and reuse.\n"
   ]
  },
  {
   "cell_type": "code",
   "execution_count": 11,
   "id": "0f5bb85e-44b7-4311-8157-8dc5e0c124dd",
   "metadata": {},
   "outputs": [
    {
     "name": "stderr",
     "output_type": "stream",
     "text": [
      "WARNING:absl:You are saving your model as an HDF5 file via `model.save()` or `keras.saving.save_model(model)`. This file format is considered legacy. We recommend using instead the native Keras format, e.g. `model.save('my_model.keras')` or `keras.saving.save_model(model, 'my_model.keras')`. \n"
     ]
    },
    {
     "name": "stdout",
     "output_type": "stream",
     "text": [
      "Model saved as cnn_model_debilt.h5\n",
      "Confusion matrix saved as confusion_matrix_debilt_cnn.png\n"
     ]
    },
    {
     "data": {
      "text/plain": [
       "<Figure size 800x600 with 0 Axes>"
      ]
     },
     "metadata": {},
     "output_type": "display_data"
    },
    {
     "data": {
      "image/png": "[encoded data removed]",
      "text/plain": [
       "<Figure size 640x480 with 2 Axes>"
      ]
     },
     "metadata": {},
     "output_type": "display_data"
    }
   ],
   "source": [
    "# Save the trained model\n",
    "model.save(\"cnn_model_debilt.h5\")\n",
    "print(\"Model saved as cnn_model_debilt.h5\")\n",
    "\n",
    "# Save the confusion matrix as an image\n",
    "plt.figure(figsize=(8, 6))\n",
    "disp = ConfusionMatrixDisplay(confusion_matrix=cm)\n",
    "disp.plot(cmap=\"Greens\", values_format='d')\n",
    "plt.title(\"Confusion Matrix of De Bilt - CNN Model\")\n",
    "plt.savefig(\"confusion_matrix_debilt_cnn.png\")\n",
    "print(\"Confusion matrix saved as confusion_matrix_debilt_cnn.png\")\n"
   ]
  },
  {
   "cell_type": "code",
   "execution_count": null,
   "id": "f13e584b-7848-4161-acbc-cee87b7b50ab",
   "metadata": {},
   "outputs": [],
   "source": []
  }
 ],
 "metadata": {
  "kernelspec": {
   "display_name": "Python (tf_env)",
   "language": "python",
   "name": "tf_env"
  },
  "language_info": {
   "codemirror_mode": {
    "name": "ipython",
    "version": 3
   },
   "file_extension": ".py",
   "mimetype": "text/x-python",
   "name": "python",
   "nbconvert_exporter": "python",
   "pygments_lexer": "ipython3",
   "version": "3.11.0"
  }
 },
 "nbformat": 4,
 "nbformat_minor": 5
}
