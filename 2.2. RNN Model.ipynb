{
 "cells": [
  {
   "cell_type": "markdown",
   "id": "02200214-914c-4f38-9fed-68b3d03e04ee",
   "metadata": {},
   "source": [
    "# ClimateWins – Exercise 2.2.2: RNN Model for Weather Pattern Prediction\n",
    "\n",
    "## Table of Contents\n",
    "1. Import Libraries\n",
    "2. Load and Preview Dataset\n",
    "3. Data Cleaning and Preprocessing\n",
    "4. Export Cleaned Dataset\n",
    "5. Reshape Data for RNN Input\n",
    "6. Train-Test Split\n",
    "7. Build RNN Model\n",
    "8. Compile and Train Model\n",
    "9. Evaluate Model Performance\n",
    "10. Confusion Matrix and Results\n"
   ]
  },
  {
   "cell_type": "markdown",
   "id": "432098c2-cb5d-42fd-ac2b-4336aada0306",
   "metadata": {},
   "source": [
    "# 2. Import Libraries"
   ]
  },
  {
   "cell_type": "markdown",
   "id": "1dcee0e1-3b1c-4f09-bacd-9bdf086f6d6b",
   "metadata": {},
   "source": [
    "### Libraries for data handling, visualization, and building an RNN model using TensorFlow and Keras are imported."
   ]
  },
  {
   "cell_type": "code",
   "execution_count": 1,
   "id": "c40080fe-a91f-409c-820b-d529f910162d",
   "metadata": {},
   "outputs": [],
   "source": [
    "# Data and plotting libraries\n",
    "import pandas as pd\n",
    "import numpy as np\n",
    "import matplotlib.pyplot as plt\n",
    "import seaborn as sns\n",
    "\n",
    "# Machine learning utilities\n",
    "from sklearn.model_selection import train_test_split\n",
    "from sklearn.metrics import confusion_matrix, ConfusionMatrixDisplay\n",
    "\n",
    "# Deep learning (RNN/LSTM)\n",
    "import tensorflow as tf\n",
    "from tensorflow.keras.models import Sequential\n",
    "from tensorflow.keras.layers import LSTM, SimpleRNN, Dense\n",
    "from tensorflow.keras.utils import to_categorical\n"
   ]
  },
  {
   "cell_type": "markdown",
   "id": "8a33684e-833e-4913-a274-9b035423d0f3",
   "metadata": {},
   "source": [
    "# 3. Load and Preview Dataset\n"
   ]
  },
  {
   "cell_type": "markdown",
   "id": "d8d9df5b-6de8-4f0d-a1cd-e911bf4b8e0c",
   "metadata": {},
   "source": [
    "The cleaned dataset exported from the previous notebook is loaded, and its structure is checked to ensure correctness."
   ]
  },
  {
   "cell_type": "code",
   "execution_count": 2,
   "id": "30bb0346-59c4-48b1-81cd-a560fb8349f5",
   "metadata": {},
   "outputs": [
    {
     "name": "stdout",
     "output_type": "stream",
     "text": [
      "Shape of X: (28560, 135)\n",
      "Shape of y: (22950, 15)\n"
     ]
    },
    {
     "data": {
      "text/html": [
       "<div>\n",
       "<style scoped>\n",
       "    .dataframe tbody tr th:only-of-type {\n",
       "        vertical-align: middle;\n",
       "    }\n",
       "\n",
       "    .dataframe tbody tr th {\n",
       "        vertical-align: top;\n",
       "    }\n",
       "\n",
       "    .dataframe thead th {\n",
       "        text-align: right;\n",
       "    }\n",
       "</style>\n",
       "<table border=\"1\" class=\"dataframe\">\n",
       "  <thead>\n",
       "    <tr style=\"text-align: right;\">\n",
       "      <th></th>\n",
       "      <th>0</th>\n",
       "      <th>1</th>\n",
       "      <th>2</th>\n",
       "      <th>3</th>\n",
       "      <th>4</th>\n",
       "      <th>5</th>\n",
       "      <th>6</th>\n",
       "      <th>7</th>\n",
       "      <th>8</th>\n",
       "      <th>9</th>\n",
       "      <th>...</th>\n",
       "      <th>125</th>\n",
       "      <th>126</th>\n",
       "      <th>127</th>\n",
       "      <th>128</th>\n",
       "      <th>129</th>\n",
       "      <th>130</th>\n",
       "      <th>131</th>\n",
       "      <th>132</th>\n",
       "      <th>133</th>\n",
       "      <th>134</th>\n",
       "    </tr>\n",
       "  </thead>\n",
       "  <tbody>\n",
       "    <tr>\n",
       "      <th>0</th>\n",
       "      <td>7.0000</td>\n",
       "      <td>2.10</td>\n",
       "      <td>0.85</td>\n",
       "      <td>1.018</td>\n",
       "      <td>0.32</td>\n",
       "      <td>0.09</td>\n",
       "      <td>0.0000</td>\n",
       "      <td>0.70</td>\n",
       "      <td>6.5000</td>\n",
       "      <td>0.80</td>\n",
       "      <td>...</td>\n",
       "      <td>5.9000</td>\n",
       "      <td>3.00</td>\n",
       "      <td>2.60</td>\n",
       "      <td>0.73</td>\n",
       "      <td>1.0152</td>\n",
       "      <td>7.10</td>\n",
       "      <td>7.8000</td>\n",
       "      <td>4.0000</td>\n",
       "      <td>4.50</td>\n",
       "      <td>0.73</td>\n",
       "    </tr>\n",
       "    <tr>\n",
       "      <th>1</th>\n",
       "      <td>1.0304</td>\n",
       "      <td>0.48</td>\n",
       "      <td>0.01</td>\n",
       "      <td>2.300</td>\n",
       "      <td>-5.90</td>\n",
       "      <td>-8.50</td>\n",
       "      <td>-3.2000</td>\n",
       "      <td>5.00</td>\n",
       "      <td>1.0114</td>\n",
       "      <td>0.05</td>\n",
       "      <td>...</td>\n",
       "      <td>0.4000</td>\n",
       "      <td>8.60</td>\n",
       "      <td>7.50</td>\n",
       "      <td>9.90</td>\n",
       "      <td>7.0000</td>\n",
       "      <td>0.80</td>\n",
       "      <td>0.8600</td>\n",
       "      <td>1.0254</td>\n",
       "      <td>0.46</td>\n",
       "      <td>0.00</td>\n",
       "    </tr>\n",
       "    <tr>\n",
       "      <th>2</th>\n",
       "      <td>0.9000</td>\n",
       "      <td>9.80</td>\n",
       "      <td>7.40</td>\n",
       "      <td>12.200</td>\n",
       "      <td>6.00</td>\n",
       "      <td>0.72</td>\n",
       "      <td>0.6100</td>\n",
       "      <td>0.30</td>\n",
       "      <td>0.0000</td>\n",
       "      <td>5.10</td>\n",
       "      <td>...</td>\n",
       "      <td>1.0166</td>\n",
       "      <td>0.15</td>\n",
       "      <td>0.07</td>\n",
       "      <td>0.00</td>\n",
       "      <td>0.1000</td>\n",
       "      <td>8.40</td>\n",
       "      <td>6.1000</td>\n",
       "      <td>12.2000</td>\n",
       "      <td>1.30</td>\n",
       "      <td>0.91</td>\n",
       "    </tr>\n",
       "    <tr>\n",
       "      <th>3</th>\n",
       "      <td>1.0129</td>\n",
       "      <td>0.12</td>\n",
       "      <td>0.60</td>\n",
       "      <td>0.000</td>\n",
       "      <td>6.50</td>\n",
       "      <td>6.00</td>\n",
       "      <td>8.0000</td>\n",
       "      <td>8.00</td>\n",
       "      <td>1.4000</td>\n",
       "      <td>0.96</td>\n",
       "      <td>...</td>\n",
       "      <td>2.0000</td>\n",
       "      <td>0.40</td>\n",
       "      <td>4.40</td>\n",
       "      <td>8.00</td>\n",
       "      <td>5.7000</td>\n",
       "      <td>0.95</td>\n",
       "      <td>1.0265</td>\n",
       "      <td>0.0800</td>\n",
       "      <td>0.09</td>\n",
       "      <td>0.00</td>\n",
       "    </tr>\n",
       "    <tr>\n",
       "      <th>4</th>\n",
       "      <td>6.7000</td>\n",
       "      <td>3.60</td>\n",
       "      <td>10.10</td>\n",
       "      <td>8.000</td>\n",
       "      <td>2.70</td>\n",
       "      <td>0.86</td>\n",
       "      <td>1.0161</td>\n",
       "      <td>0.12</td>\n",
       "      <td>0.0200</td>\n",
       "      <td>0.00</td>\n",
       "      <td>...</td>\n",
       "      <td>0.1300</td>\n",
       "      <td>0.98</td>\n",
       "      <td>0.00</td>\n",
       "      <td>0.00</td>\n",
       "      <td>7.4000</td>\n",
       "      <td>7.30</td>\n",
       "      <td>10.6000</td>\n",
       "      <td>6.0000</td>\n",
       "      <td>2.10</td>\n",
       "      <td>0.95</td>\n",
       "    </tr>\n",
       "  </tbody>\n",
       "</table>\n",
       "<p>5 rows × 135 columns</p>\n",
       "</div>"
      ],
      "text/plain": [
       "        0     1      2       3     4     5       6     7       8     9  ...  \\\n",
       "0  7.0000  2.10   0.85   1.018  0.32  0.09  0.0000  0.70  6.5000  0.80  ...   \n",
       "1  1.0304  0.48   0.01   2.300 -5.90 -8.50 -3.2000  5.00  1.0114  0.05  ...   \n",
       "2  0.9000  9.80   7.40  12.200  6.00  0.72  0.6100  0.30  0.0000  5.10  ...   \n",
       "3  1.0129  0.12   0.60   0.000  6.50  6.00  8.0000  8.00  1.4000  0.96  ...   \n",
       "4  6.7000  3.60  10.10   8.000  2.70  0.86  1.0161  0.12  0.0200  0.00  ...   \n",
       "\n",
       "      125   126   127   128     129   130      131      132   133   134  \n",
       "0  5.9000  3.00  2.60  0.73  1.0152  7.10   7.8000   4.0000  4.50  0.73  \n",
       "1  0.4000  8.60  7.50  9.90  7.0000  0.80   0.8600   1.0254  0.46  0.00  \n",
       "2  1.0166  0.15  0.07  0.00  0.1000  8.40   6.1000  12.2000  1.30  0.91  \n",
       "3  2.0000  0.40  4.40  8.00  5.7000  0.95   1.0265   0.0800  0.09  0.00  \n",
       "4  0.1300  0.98  0.00  0.00  7.4000  7.30  10.6000   6.0000  2.10  0.95  \n",
       "\n",
       "[5 rows x 135 columns]"
      ]
     },
     "execution_count": 2,
     "metadata": {},
     "output_type": "execute_result"
    }
   ],
   "source": [
    "# Load cleaned datasets created from Exercise 2.2.1\n",
    "X = pd.read_csv(\"Cleaned-Weather-Data.csv\")\n",
    "y = pd.read_csv(\"Cleaned-Pleasant-Weather.csv\")\n",
    "\n",
    "# Display shapes and preview first few rows\n",
    "print(\"Shape of X:\", X.shape)\n",
    "print(\"Shape of y:\", y.shape)\n",
    "X.head()\n"
   ]
  },
  {
   "cell_type": "markdown",
   "id": "876b26f5-b218-4497-a5bb-b254d510a4d3",
   "metadata": {},
   "source": [
    "# 4. Export Cleaned Dataset\n"
   ]
  },
  {
   "cell_type": "markdown",
   "id": "eebc66cb-3552-486d-9b24-7873dfe84b32",
   "metadata": {},
   "source": [
    "The cleaned datasets are already saved from the CNN notebook. This step simply re-exports them to ensure consistency across all deep learning notebooks.\n"
   ]
  },
  {
   "cell_type": "code",
   "execution_count": 3,
   "id": "7c46be19-000c-4726-8236-d7328b25ec9d",
   "metadata": {},
   "outputs": [
    {
     "name": "stdout",
     "output_type": "stream",
     "text": [
      "✅ Cleaned datasets re-exported successfully.\n"
     ]
    }
   ],
   "source": [
    "# Re-export the cleaned datasets (for consistency)\n",
    "X.to_csv(\"Cleaned-Weather-Data.csv\", index=False)\n",
    "y.to_csv(\"Cleaned-Pleasant-Weather.csv\", index=False)\n",
    "\n",
    "print(\"✅ Cleaned datasets re-exported successfully.\")\n"
   ]
  },
  {
   "cell_type": "markdown",
   "id": "6d83434f-d74f-4e03-adf6-9c90e42f8775",
   "metadata": {},
   "source": [
    "# 5. Reshape Data for RNN Input\n"
   ]
  },
  {
   "cell_type": "markdown",
   "id": "713e33a9-38f5-4b43-a3e4-b06b5a8ca7a4",
   "metadata": {},
   "source": [
    "The input features are reshaped into a 3D structure required by RNNs. The labels remain in 2D and will be transformed into class indices later."
   ]
  },
  {
   "cell_type": "code",
   "execution_count": 5,
   "id": "a3f36d16-0f9d-4f36-bb92-b8afcaa4efdb",
   "metadata": {},
   "outputs": [
    {
     "name": "stdout",
     "output_type": "stream",
     "text": [
      "Shape of X: (22950, 15, 9)\n",
      "Shape of y: (22950, 15)\n"
     ]
    }
   ],
   "source": [
    "# Convert X to NumPy before reshaping\n",
    "X = X[:22950].values.reshape(-1, 15, 9)\n",
    "\n",
    "# Convert y to NumPy\n",
    "y = y[:22950].values\n",
    "\n",
    "# Confirm final shapes\n",
    "print(\"Shape of X:\", X.shape)\n",
    "print(\"Shape of y:\", y.shape)\n"
   ]
  },
  {
   "cell_type": "markdown",
   "id": "a963f691-b0c4-4024-b1b5-007ff5d2b9b7",
   "metadata": {},
   "source": [
    "# 6. Train-Test Split\n"
   ]
  },
  {
   "cell_type": "markdown",
   "id": "8000eb62-9222-4512-9573-88c2820760da",
   "metadata": {},
   "source": [
    "The dataset is split into training and test sets, allowing evaluation of the model’s ability to generalize to unseen weather patterns."
   ]
  },
  {
   "cell_type": "code",
   "execution_count": 6,
   "id": "c551cffb-bc58-49a6-9e6b-697f3a124a89",
   "metadata": {},
   "outputs": [
    {
     "name": "stdout",
     "output_type": "stream",
     "text": [
      "X_train: (18360, 15, 9)\n",
      "X_test: (4590, 15, 9)\n",
      "y_train: (18360, 15)\n",
      "y_test: (4590, 15)\n"
     ]
    }
   ],
   "source": [
    "from sklearn.model_selection import train_test_split\n",
    "\n",
    "# Split data (80% train, 20% test)\n",
    "X_train, X_test, y_train, y_test = train_test_split(\n",
    "    X, y, test_size=0.2, random_state=42\n",
    ")\n",
    "\n",
    "# Confirm the shapes\n",
    "print(\"X_train:\", X_train.shape)\n",
    "print(\"X_test:\", X_test.shape)\n",
    "print(\"y_train:\", y_train.shape)\n",
    "print(\"y_test:\", y_test.shape)\n"
   ]
  },
  {
   "cell_type": "markdown",
   "id": "4f124a48-50aa-4aae-8954-9ae8688963ec",
   "metadata": {},
   "source": [
    "# 7. Build RNN Model\n"
   ]
  },
  {
   "cell_type": "markdown",
   "id": "263b2577-e9ab-4e7f-b17c-95d88cb9c3fa",
   "metadata": {},
   "source": [
    "A SimpleRNN-based model is constructed to learn temporal patterns in the weather data. The output layer uses softmax to classify into one of 15 weather stations."
   ]
  },
  {
   "cell_type": "code",
   "execution_count": 7,
   "id": "a45490b1-8b51-4581-8126-7491b4e23185",
   "metadata": {},
   "outputs": [
    {
     "name": "stderr",
     "output_type": "stream",
     "text": [
      "D:\\software\\Python\\Python 3.11\\Lib\\site-packages\\keras\\src\\layers\\rnn\\rnn.py:199: UserWarning: Do not pass an `input_shape`/`input_dim` argument to a layer. When using Sequential models, prefer using an `Input(shape)` object as the first layer in the model instead.\n",
      "  super().__init__(**kwargs)\n"
     ]
    },
    {
     "data": {
      "text/html": [
       "<pre style=\"white-space:pre;overflow-x:auto;line-height:normal;font-family:Menlo,'DejaVu Sans Mono',consolas,'Courier New',monospace\"><span style=\"font-weight: bold\">Model: \"sequential\"</span>\n",
       "</pre>\n"
      ],
      "text/plain": [
       "\u001b[1mModel: \"sequential\"\u001b[0m\n"
      ]
     },
     "metadata": {},
     "output_type": "display_data"
    },
    {
     "data": {
      "text/html": [
       "<pre style=\"white-space:pre;overflow-x:auto;line-height:normal;font-family:Menlo,'DejaVu Sans Mono',consolas,'Courier New',monospace\">┏━━━━━━━━━━━━━━━━━━━━━━━━━━━━━━━━━━━━━━┳━━━━━━━━━━━━━━━━━━━━━━━━━━━━━┳━━━━━━━━━━━━━━━━━┓\n",
       "┃<span style=\"font-weight: bold\"> Layer (type)                         </span>┃<span style=\"font-weight: bold\"> Output Shape                </span>┃<span style=\"font-weight: bold\">         Param # </span>┃\n",
       "┡━━━━━━━━━━━━━━━━━━━━━━━━━━━━━━━━━━━━━━╇━━━━━━━━━━━━━━━━━━━━━━━━━━━━━╇━━━━━━━━━━━━━━━━━┩\n",
       "│ simple_rnn (<span style=\"color: #0087ff; text-decoration-color: #0087ff\">SimpleRNN</span>)               │ (<span style=\"color: #00d7ff; text-decoration-color: #00d7ff\">None</span>, <span style=\"color: #00af00; text-decoration-color: #00af00\">64</span>)                  │           <span style=\"color: #00af00; text-decoration-color: #00af00\">4,736</span> │\n",
       "├──────────────────────────────────────┼─────────────────────────────┼─────────────────┤\n",
       "│ dense (<span style=\"color: #0087ff; text-decoration-color: #0087ff\">Dense</span>)                        │ (<span style=\"color: #00d7ff; text-decoration-color: #00d7ff\">None</span>, <span style=\"color: #00af00; text-decoration-color: #00af00\">15</span>)                  │             <span style=\"color: #00af00; text-decoration-color: #00af00\">975</span> │\n",
       "└──────────────────────────────────────┴─────────────────────────────┴─────────────────┘\n",
       "</pre>\n"
      ],
      "text/plain": [
       "┏━━━━━━━━━━━━━━━━━━━━━━━━━━━━━━━━━━━━━━┳━━━━━━━━━━━━━━━━━━━━━━━━━━━━━┳━━━━━━━━━━━━━━━━━┓\n",
       "┃\u001b[1m \u001b[0m\u001b[1mLayer (type)                        \u001b[0m\u001b[1m \u001b[0m┃\u001b[1m \u001b[0m\u001b[1mOutput Shape               \u001b[0m\u001b[1m \u001b[0m┃\u001b[1m \u001b[0m\u001b[1m        Param #\u001b[0m\u001b[1m \u001b[0m┃\n",
       "┡━━━━━━━━━━━━━━━━━━━━━━━━━━━━━━━━━━━━━━╇━━━━━━━━━━━━━━━━━━━━━━━━━━━━━╇━━━━━━━━━━━━━━━━━┩\n",
       "│ simple_rnn (\u001b[38;5;33mSimpleRNN\u001b[0m)               │ (\u001b[38;5;45mNone\u001b[0m, \u001b[38;5;34m64\u001b[0m)                  │           \u001b[38;5;34m4,736\u001b[0m │\n",
       "├──────────────────────────────────────┼─────────────────────────────┼─────────────────┤\n",
       "│ dense (\u001b[38;5;33mDense\u001b[0m)                        │ (\u001b[38;5;45mNone\u001b[0m, \u001b[38;5;34m15\u001b[0m)                  │             \u001b[38;5;34m975\u001b[0m │\n",
       "└──────────────────────────────────────┴─────────────────────────────┴─────────────────┘\n"
      ]
     },
     "metadata": {},
     "output_type": "display_data"
    },
    {
     "data": {
      "text/html": [
       "<pre style=\"white-space:pre;overflow-x:auto;line-height:normal;font-family:Menlo,'DejaVu Sans Mono',consolas,'Courier New',monospace\"><span style=\"font-weight: bold\"> Total params: </span><span style=\"color: #00af00; text-decoration-color: #00af00\">5,711</span> (22.31 KB)\n",
       "</pre>\n"
      ],
      "text/plain": [
       "\u001b[1m Total params: \u001b[0m\u001b[38;5;34m5,711\u001b[0m (22.31 KB)\n"
      ]
     },
     "metadata": {},
     "output_type": "display_data"
    },
    {
     "data": {
      "text/html": [
       "<pre style=\"white-space:pre;overflow-x:auto;line-height:normal;font-family:Menlo,'DejaVu Sans Mono',consolas,'Courier New',monospace\"><span style=\"font-weight: bold\"> Trainable params: </span><span style=\"color: #00af00; text-decoration-color: #00af00\">5,711</span> (22.31 KB)\n",
       "</pre>\n"
      ],
      "text/plain": [
       "\u001b[1m Trainable params: \u001b[0m\u001b[38;5;34m5,711\u001b[0m (22.31 KB)\n"
      ]
     },
     "metadata": {},
     "output_type": "display_data"
    },
    {
     "data": {
      "text/html": [
       "<pre style=\"white-space:pre;overflow-x:auto;line-height:normal;font-family:Menlo,'DejaVu Sans Mono',consolas,'Courier New',monospace\"><span style=\"font-weight: bold\"> Non-trainable params: </span><span style=\"color: #00af00; text-decoration-color: #00af00\">0</span> (0.00 B)\n",
       "</pre>\n"
      ],
      "text/plain": [
       "\u001b[1m Non-trainable params: \u001b[0m\u001b[38;5;34m0\u001b[0m (0.00 B)\n"
      ]
     },
     "metadata": {},
     "output_type": "display_data"
    }
   ],
   "source": [
    "# Get number of output classes\n",
    "n_classes = y_train.shape[1]\n",
    "\n",
    "# Build the RNN model\n",
    "model = Sequential([\n",
    "    SimpleRNN(64, input_shape=(15, 9), return_sequences=False),\n",
    "    Dense(n_classes, activation='softmax')\n",
    "])\n",
    "\n",
    "# Show model summary\n",
    "model.summary()\n"
   ]
  },
  {
   "cell_type": "markdown",
   "id": "820110c3-2143-4b18-9ee9-c23974ef103b",
   "metadata": {},
   "source": [
    "# 8. Compile and Train Model\n"
   ]
  },
  {
   "cell_type": "markdown",
   "id": "fcc97f5c-a1da-445a-bc43-385b1300b52d",
   "metadata": {},
   "source": [
    "The RNN model is compiled with Adam optimizer and categorical crossentropy. Labels are converted to class indices and one-hot encoded for training.\n"
   ]
  },
  {
   "cell_type": "code",
   "execution_count": 8,
   "id": "17cead4d-b217-4b31-ad4e-d7404bf835e0",
   "metadata": {},
   "outputs": [
    {
     "name": "stdout",
     "output_type": "stream",
     "text": [
      "Epoch 1/10\n",
      "\u001b[1m918/918\u001b[0m \u001b[32m━━━━━━━━━━━━━━━━━━━━\u001b[0m\u001b[37m\u001b[0m \u001b[1m6s\u001b[0m 5ms/step - accuracy: 0.5568 - loss: 1.5177 - val_accuracy: 0.6446 - val_loss: 1.1949\n",
      "Epoch 2/10\n",
      "\u001b[1m918/918\u001b[0m \u001b[32m━━━━━━━━━━━━━━━━━━━━\u001b[0m\u001b[37m\u001b[0m \u001b[1m4s\u001b[0m 4ms/step - accuracy: 0.6342 - loss: 1.1963 - val_accuracy: 0.6465 - val_loss: 1.1786\n",
      "Epoch 3/10\n",
      "\u001b[1m918/918\u001b[0m \u001b[32m━━━━━━━━━━━━━━━━━━━━\u001b[0m\u001b[37m\u001b[0m \u001b[1m4s\u001b[0m 4ms/step - accuracy: 0.6431 - loss: 1.1655 - val_accuracy: 0.6457 - val_loss: 1.1880\n",
      "Epoch 4/10\n",
      "\u001b[1m918/918\u001b[0m \u001b[32m━━━━━━━━━━━━━━━━━━━━\u001b[0m\u001b[37m\u001b[0m \u001b[1m4s\u001b[0m 4ms/step - accuracy: 0.6470 - loss: 1.1589 - val_accuracy: 0.6471 - val_loss: 1.1802\n",
      "Epoch 5/10\n",
      "\u001b[1m918/918\u001b[0m \u001b[32m━━━━━━━━━━━━━━━━━━━━\u001b[0m\u001b[37m\u001b[0m \u001b[1m3s\u001b[0m 3ms/step - accuracy: 0.6420 - loss: 1.1683 - val_accuracy: 0.6471 - val_loss: 1.1744\n",
      "Epoch 6/10\n",
      "\u001b[1m918/918\u001b[0m \u001b[32m━━━━━━━━━━━━━━━━━━━━\u001b[0m\u001b[37m\u001b[0m \u001b[1m3s\u001b[0m 3ms/step - accuracy: 0.6432 - loss: 1.1530 - val_accuracy: 0.6468 - val_loss: 1.1760\n",
      "Epoch 7/10\n",
      "\u001b[1m918/918\u001b[0m \u001b[32m━━━━━━━━━━━━━━━━━━━━\u001b[0m\u001b[37m\u001b[0m \u001b[1m4s\u001b[0m 4ms/step - accuracy: 0.6412 - loss: 1.1503 - val_accuracy: 0.6473 - val_loss: 1.1771\n",
      "Epoch 8/10\n",
      "\u001b[1m918/918\u001b[0m \u001b[32m━━━━━━━━━━━━━━━━━━━━\u001b[0m\u001b[37m\u001b[0m \u001b[1m4s\u001b[0m 4ms/step - accuracy: 0.6413 - loss: 1.1594 - val_accuracy: 0.6476 - val_loss: 1.1797\n",
      "Epoch 9/10\n",
      "\u001b[1m918/918\u001b[0m \u001b[32m━━━━━━━━━━━━━━━━━━━━\u001b[0m\u001b[37m\u001b[0m \u001b[1m3s\u001b[0m 4ms/step - accuracy: 0.6397 - loss: 1.1578 - val_accuracy: 0.6479 - val_loss: 1.1843\n",
      "Epoch 10/10\n",
      "\u001b[1m918/918\u001b[0m \u001b[32m━━━━━━━━━━━━━━━━━━━━\u001b[0m\u001b[37m\u001b[0m \u001b[1m4s\u001b[0m 4ms/step - accuracy: 0.6448 - loss: 1.1427 - val_accuracy: 0.6473 - val_loss: 1.1798\n"
     ]
    }
   ],
   "source": [
    "# Convert multi-label rows into class indices\n",
    "y_train_idx = np.argmax(y_train, axis=1)\n",
    "y_test_idx = np.argmax(y_test, axis=1)\n",
    "\n",
    "# One-hot encode the class indices\n",
    "y_train_cat = tf.keras.utils.to_categorical(y_train_idx, num_classes=15)\n",
    "y_test_cat = tf.keras.utils.to_categorical(y_test_idx, num_classes=15)\n",
    "\n",
    "# Compile the model\n",
    "model.compile(\n",
    "    optimizer='adam',\n",
    "    loss='categorical_crossentropy',\n",
    "    metrics=['accuracy']\n",
    ")\n",
    "\n",
    "# Train the model\n",
    "history = model.fit(\n",
    "    X_train, y_train_cat,\n",
    "    epochs=10,\n",
    "    batch_size=16,\n",
    "    validation_split=0.2\n",
    ")\n"
   ]
  },
  {
   "cell_type": "markdown",
   "id": "e66fe7a2-accc-4ba9-bb28-2cdd0f4ded23",
   "metadata": {},
   "source": [
    "# 9. Evaluate Model Performance\n"
   ]
  },
  {
   "cell_type": "markdown",
   "id": "40174ff3-a660-486a-a7e1-69b09bb092a8",
   "metadata": {},
   "source": [
    "The model’s performance is assessed on the held-out test set to understand its generalization capability."
   ]
  },
  {
   "cell_type": "code",
   "execution_count": 9,
   "id": "871eddd8-9de5-45d2-ad00-63fab5b1266a",
   "metadata": {},
   "outputs": [
    {
     "name": "stdout",
     "output_type": "stream",
     "text": [
      "\u001b[1m144/144\u001b[0m \u001b[32m━━━━━━━━━━━━━━━━━━━━\u001b[0m\u001b[37m\u001b[0m \u001b[1m0s\u001b[0m 3ms/step - accuracy: 0.6483 - loss: 1.1743 \n",
      "✅ Test Accuracy: 0.6434\n",
      "❌ Test Loss: 1.1848\n"
     ]
    }
   ],
   "source": [
    "# Evaluate performance on test data\n",
    "test_loss, test_accuracy = model.evaluate(X_test, y_test_cat)\n",
    "\n",
    "print(f\"✅ Test Accuracy: {test_accuracy:.4f}\")\n",
    "print(f\"❌ Test Loss: {test_loss:.4f}\")\n"
   ]
  },
  {
   "cell_type": "markdown",
   "id": "b50dca81-0c64-461a-bcb4-7338c17291c6",
   "metadata": {},
   "source": [
    "# 10. Confusion Matrix and Results\n"
   ]
  },
  {
   "cell_type": "markdown",
   "id": "fccb8da7-bd69-46e9-9923-2230e72a533e",
   "metadata": {},
   "source": [
    "A confusion matrix is generated to visualize how well the RNN model classifies the 15 weather stations."
   ]
  },
  {
   "cell_type": "code",
   "execution_count": 10,
   "id": "6ec13a01-3111-47ed-b61f-961f2041ad1e",
   "metadata": {},
   "outputs": [
    {
     "name": "stdout",
     "output_type": "stream",
     "text": [
      "\u001b[1m144/144\u001b[0m \u001b[32m━━━━━━━━━━━━━━━━━━━━\u001b[0m\u001b[37m\u001b[0m \u001b[1m1s\u001b[0m 4ms/step   \n"
     ]
    },
    {
     "data": {
      "image/png": "[encoded data removed]",
      "text/plain": [
       "<Figure size 640x480 with 2 Axes>"
      ]
     },
     "metadata": {},
     "output_type": "display_data"
    }
   ],
   "source": [
    "# Predict on test set\n",
    "y_pred_probs = model.predict(X_test)\n",
    "y_pred_labels = np.argmax(y_pred_probs, axis=1)\n",
    "y_true_labels = np.argmax(y_test_cat, axis=1)\n",
    "\n",
    "# Generate confusion matrix\n",
    "cm = confusion_matrix(y_true_labels, y_pred_labels)\n",
    "\n",
    "# Display confusion matrix\n",
    "disp = ConfusionMatrixDisplay(confusion_matrix=cm)\n",
    "disp.plot(xticks_rotation='vertical')\n",
    "plt.title(\"Confusion Matrix – RNN Model\")\n",
    "plt.tight_layout()\n",
    "plt.show()\n"
   ]
  },
  {
   "cell_type": "markdown",
   "id": "de509d6c-0fa0-4925-8d18-f7674e2b45e5",
   "metadata": {},
   "source": [
    "# ✅ Final Summary – RNN Model for Weather Pattern Prediction\n",
    "\n",
    "This notebook implemented a Recurrent Neural Network (RNN) using SimpleRNN layers to classify weather station patterns over time.\n",
    "\n",
    "### Key Steps Performed:\n",
    "- Loaded and reshaped weather data to match RNN input format: **(22950, 15, 9)**\n",
    "- Converted label matrix to class indices and applied one-hot encoding\n",
    "- Built an RNN model with the following architecture:\n",
    "  - `SimpleRNN (64 units) → Dense (15 classes, softmax)`\n",
    "- Trained for **10 epochs** with **batch size 16**, using categorical crossentropy\n",
    "- Achieved:\n",
    "  - **Training Accuracy:** ~64.7%\n"
   ]
  },
  {
   "cell_type": "code",
   "execution_count": null,
   "id": "006ab1d6-dcc9-40e5-9afe-4374f9d550da",
   "metadata": {},
   "outputs": [],
   "source": []
  }
 ],
 "metadata": {
  "kernelspec": {
   "display_name": "Python (tf_env)",
   "language": "python",
   "name": "tf_env"
  },
  "language_info": {
   "codemirror_mode": {
    "name": "ipython",
    "version": 3
   },
   "file_extension": ".py",
   "mimetype": "text/x-python",
   "name": "python",
   "nbconvert_exporter": "python",
   "pygments_lexer": "ipython3",
   "version": "3.11.0"
  }
 },
 "nbformat": 4,
 "nbformat_minor": 5
}
