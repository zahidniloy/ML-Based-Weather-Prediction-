{
 "cells": [
  {
   "cell_type": "markdown",
   "id": "e040f0e2-2690-4497-a502-5828ff31f0d4",
   "metadata": {},
   "source": [
    "# ClimateWins - Deep Learning with CNN  \n",
    "## Notebook 1_Madrid\n",
    "\n",
    "1. Load and Preview Dataset  \n",
    "2. Preprocessing: Drop Unnecessary Columns  \n",
    "3. Clean Missing and Incomplete Data  \n",
    "4. Reshape X and y  \n",
    "5. Train-Test Split  \n",
    "6. Build CNN Model  \n",
    "7. Compile and Train Model  \n",
    "8. Evaluate Model  \n",
    "9. Generate Confusion Matrix  \n",
    "10. Save Model and Outputs\n"
   ]
  },
  {
   "cell_type": "markdown",
   "id": "52fce5dd-ccfa-417c-9ad3-1a59639e30c1",
   "metadata": {},
   "source": [
    "# 1. Load and Preview Dataset\n",
    "### The user loads the cleaned weather data and pleasant weather data to begin modeling.\n"
   ]
  },
  {
   "cell_type": "code",
   "execution_count": 1,
   "id": "83fc2262-28e2-43bb-818e-63f2124cbe41",
   "metadata": {},
   "outputs": [
    {
     "name": "stdout",
     "output_type": "stream",
     "text": [
      "X shape: (28560, 135)\n",
      "y shape: (22950, 15)\n"
     ]
    },
    {
     "data": {
      "text/html": [
       "<div>\n",
       "<style scoped>\n",
       "    .dataframe tbody tr th:only-of-type {\n",
       "        vertical-align: middle;\n",
       "    }\n",
       "\n",
       "    .dataframe tbody tr th {\n",
       "        vertical-align: top;\n",
       "    }\n",
       "\n",
       "    .dataframe thead th {\n",
       "        text-align: right;\n",
       "    }\n",
       "</style>\n",
       "<table border=\"1\" class=\"dataframe\">\n",
       "  <thead>\n",
       "    <tr style=\"text-align: right;\">\n",
       "      <th></th>\n",
       "      <th>0</th>\n",
       "      <th>1</th>\n",
       "      <th>2</th>\n",
       "      <th>3</th>\n",
       "      <th>4</th>\n",
       "      <th>5</th>\n",
       "      <th>6</th>\n",
       "      <th>7</th>\n",
       "      <th>8</th>\n",
       "      <th>9</th>\n",
       "      <th>...</th>\n",
       "      <th>125</th>\n",
       "      <th>126</th>\n",
       "      <th>127</th>\n",
       "      <th>128</th>\n",
       "      <th>129</th>\n",
       "      <th>130</th>\n",
       "      <th>131</th>\n",
       "      <th>132</th>\n",
       "      <th>133</th>\n",
       "      <th>134</th>\n",
       "    </tr>\n",
       "  </thead>\n",
       "  <tbody>\n",
       "    <tr>\n",
       "      <th>0</th>\n",
       "      <td>7.0000</td>\n",
       "      <td>2.10</td>\n",
       "      <td>0.85</td>\n",
       "      <td>1.018</td>\n",
       "      <td>0.32</td>\n",
       "      <td>0.09</td>\n",
       "      <td>0.0000</td>\n",
       "      <td>0.70</td>\n",
       "      <td>6.5000</td>\n",
       "      <td>0.80</td>\n",
       "      <td>...</td>\n",
       "      <td>5.9000</td>\n",
       "      <td>3.00</td>\n",
       "      <td>2.60</td>\n",
       "      <td>0.73</td>\n",
       "      <td>1.0152</td>\n",
       "      <td>7.10</td>\n",
       "      <td>7.8000</td>\n",
       "      <td>4.0000</td>\n",
       "      <td>4.50</td>\n",
       "      <td>0.73</td>\n",
       "    </tr>\n",
       "    <tr>\n",
       "      <th>1</th>\n",
       "      <td>1.0304</td>\n",
       "      <td>0.48</td>\n",
       "      <td>0.01</td>\n",
       "      <td>2.300</td>\n",
       "      <td>-5.90</td>\n",
       "      <td>-8.50</td>\n",
       "      <td>-3.2000</td>\n",
       "      <td>5.00</td>\n",
       "      <td>1.0114</td>\n",
       "      <td>0.05</td>\n",
       "      <td>...</td>\n",
       "      <td>0.4000</td>\n",
       "      <td>8.60</td>\n",
       "      <td>7.50</td>\n",
       "      <td>9.90</td>\n",
       "      <td>7.0000</td>\n",
       "      <td>0.80</td>\n",
       "      <td>0.8600</td>\n",
       "      <td>1.0254</td>\n",
       "      <td>0.46</td>\n",
       "      <td>0.00</td>\n",
       "    </tr>\n",
       "    <tr>\n",
       "      <th>2</th>\n",
       "      <td>0.9000</td>\n",
       "      <td>9.80</td>\n",
       "      <td>7.40</td>\n",
       "      <td>12.200</td>\n",
       "      <td>6.00</td>\n",
       "      <td>0.72</td>\n",
       "      <td>0.6100</td>\n",
       "      <td>0.30</td>\n",
       "      <td>0.0000</td>\n",
       "      <td>5.10</td>\n",
       "      <td>...</td>\n",
       "      <td>1.0166</td>\n",
       "      <td>0.15</td>\n",
       "      <td>0.07</td>\n",
       "      <td>0.00</td>\n",
       "      <td>0.1000</td>\n",
       "      <td>8.40</td>\n",
       "      <td>6.1000</td>\n",
       "      <td>12.2000</td>\n",
       "      <td>1.30</td>\n",
       "      <td>0.91</td>\n",
       "    </tr>\n",
       "    <tr>\n",
       "      <th>3</th>\n",
       "      <td>1.0129</td>\n",
       "      <td>0.12</td>\n",
       "      <td>0.60</td>\n",
       "      <td>0.000</td>\n",
       "      <td>6.50</td>\n",
       "      <td>6.00</td>\n",
       "      <td>8.0000</td>\n",
       "      <td>8.00</td>\n",
       "      <td>1.4000</td>\n",
       "      <td>0.96</td>\n",
       "      <td>...</td>\n",
       "      <td>2.0000</td>\n",
       "      <td>0.40</td>\n",
       "      <td>4.40</td>\n",
       "      <td>8.00</td>\n",
       "      <td>5.7000</td>\n",
       "      <td>0.95</td>\n",
       "      <td>1.0265</td>\n",
       "      <td>0.0800</td>\n",
       "      <td>0.09</td>\n",
       "      <td>0.00</td>\n",
       "    </tr>\n",
       "    <tr>\n",
       "      <th>4</th>\n",
       "      <td>6.7000</td>\n",
       "      <td>3.60</td>\n",
       "      <td>10.10</td>\n",
       "      <td>8.000</td>\n",
       "      <td>2.70</td>\n",
       "      <td>0.86</td>\n",
       "      <td>1.0161</td>\n",
       "      <td>0.12</td>\n",
       "      <td>0.0200</td>\n",
       "      <td>0.00</td>\n",
       "      <td>...</td>\n",
       "      <td>0.1300</td>\n",
       "      <td>0.98</td>\n",
       "      <td>0.00</td>\n",
       "      <td>0.00</td>\n",
       "      <td>7.4000</td>\n",
       "      <td>7.30</td>\n",
       "      <td>10.6000</td>\n",
       "      <td>6.0000</td>\n",
       "      <td>2.10</td>\n",
       "      <td>0.95</td>\n",
       "    </tr>\n",
       "  </tbody>\n",
       "</table>\n",
       "<p>5 rows × 135 columns</p>\n",
       "</div>"
      ],
      "text/plain": [
       "        0     1      2       3     4     5       6     7       8     9  ...  \\\n",
       "0  7.0000  2.10   0.85   1.018  0.32  0.09  0.0000  0.70  6.5000  0.80  ...   \n",
       "1  1.0304  0.48   0.01   2.300 -5.90 -8.50 -3.2000  5.00  1.0114  0.05  ...   \n",
       "2  0.9000  9.80   7.40  12.200  6.00  0.72  0.6100  0.30  0.0000  5.10  ...   \n",
       "3  1.0129  0.12   0.60   0.000  6.50  6.00  8.0000  8.00  1.4000  0.96  ...   \n",
       "4  6.7000  3.60  10.10   8.000  2.70  0.86  1.0161  0.12  0.0200  0.00  ...   \n",
       "\n",
       "      125   126   127   128     129   130      131      132   133   134  \n",
       "0  5.9000  3.00  2.60  0.73  1.0152  7.10   7.8000   4.0000  4.50  0.73  \n",
       "1  0.4000  8.60  7.50  9.90  7.0000  0.80   0.8600   1.0254  0.46  0.00  \n",
       "2  1.0166  0.15  0.07  0.00  0.1000  8.40   6.1000  12.2000  1.30  0.91  \n",
       "3  2.0000  0.40  4.40  8.00  5.7000  0.95   1.0265   0.0800  0.09  0.00  \n",
       "4  0.1300  0.98  0.00  0.00  7.4000  7.30  10.6000   6.0000  2.10  0.95  \n",
       "\n",
       "[5 rows x 135 columns]"
      ]
     },
     "execution_count": 1,
     "metadata": {},
     "output_type": "execute_result"
    }
   ],
   "source": [
    "import pandas as pd\n",
    "\n",
    "# Load the cleaned weather dataset (X)\n",
    "X = pd.read_csv(\"Cleaned-Weather-Data.csv\")\n",
    "\n",
    "# Load the pleasant weather labels (y)\n",
    "y = pd.read_csv(\"Cleaned-Pleasant-Weather.csv\")\n",
    "\n",
    "# Preview shape and head\n",
    "print(\"X shape:\", X.shape)\n",
    "print(\"y shape:\", y.shape)\n",
    "X.head()\n"
   ]
  },
  {
   "cell_type": "markdown",
   "id": "12d1d016-ec40-4165-b3fe-3ab904b7b216",
   "metadata": {},
   "source": [
    "# 2. Drop Unnecessary Columns\n",
    "### The user drops date-related columns that are not required for model training.\n"
   ]
  },
  {
   "cell_type": "code",
   "execution_count": 3,
   "id": "f32573cf-68e7-48ed-a2f8-8421001950db",
   "metadata": {},
   "outputs": [],
   "source": [
    "# Drop 'DATE' and 'MONTH' from X only if they exist\n",
    "X = X.drop(columns=[col for col in [\"DATE\", \"MONTH\"] if col in X.columns])\n",
    "\n",
    "# Drop 'DATE' from y only if it exists\n",
    "y = y.drop(columns=[col for col in [\"DATE\"] if col in y.columns])\n"
   ]
  },
  {
   "cell_type": "markdown",
   "id": "ac2b6b1b-654f-4d58-bc30-f0c68fc79630",
   "metadata": {},
   "source": [
    "# 3. Clean Missing and Incomplete Data\n",
    "### The user verifies the dataset is already cleaned as instructed and confirms the expected shapes.\n"
   ]
  },
  {
   "cell_type": "markdown",
   "id": "6f4d3526-d3bc-4b27-8e06-76f611fc2855",
   "metadata": {},
   "source": [
    "# 3. Clean Missing and Incomplete Data\n",
    "### The user aligns X and y to include only rows corresponding to cleaned, valid stations.\n"
   ]
  },
  {
   "cell_type": "code",
   "execution_count": 5,
   "id": "fc581147-a18b-48e0-89c5-16459fd12173",
   "metadata": {},
   "outputs": [
    {
     "name": "stdout",
     "output_type": "stream",
     "text": [
      "X shape after alignment: (22950, 135)\n",
      "y shape after alignment: (22950, 15)\n"
     ]
    }
   ],
   "source": [
    "# Align rows by index if needed\n",
    "if len(X) != len(y):\n",
    "    X = X.iloc[:len(y)]\n",
    "\n",
    "# Final check\n",
    "print(\"X shape after alignment:\", X.shape)\n",
    "print(\"y shape after alignment:\", y.shape)\n",
    "\n",
    "# Optional: manually verify with unique station IDs if needed\n",
    "# print(pd.DataFrame(y).idxmax(axis=1).value_counts())  # to inspect label distribution\n"
   ]
  },
  {
   "cell_type": "markdown",
   "id": "31d49074-5e16-4edf-8551-1ebfa21b9671",
   "metadata": {},
   "source": [
    "# 4. Reshape X and y\n",
    "### The user reshapes the observation data into 3D format (samples, time_steps, features) for CNN input.\n"
   ]
  },
  {
   "cell_type": "code",
   "execution_count": 6,
   "id": "fbf65e88-46ff-4174-be34-b4b3e3c3e2b4",
   "metadata": {},
   "outputs": [
    {
     "name": "stdout",
     "output_type": "stream",
     "text": [
      "X reshaped to: (22950, 15, 9)\n",
      "y shape remains: (22950, 15)\n"
     ]
    }
   ],
   "source": [
    "import numpy as np\n",
    "\n",
    "# Reshape X into 3D: (samples, timesteps, features)\n",
    "X = X.values.reshape(-1, 15, 9)\n",
    "\n",
    "# Convert y to numpy array (if not already)\n",
    "y = y.values\n",
    "\n",
    "print(\"X reshaped to:\", X.shape)\n",
    "print(\"y shape remains:\", y.shape)\n"
   ]
  },
  {
   "cell_type": "markdown",
   "id": "b9806801-3fc6-4df1-aa09-98765a8b67e2",
   "metadata": {},
   "source": [
    "# 5. Train-Test Split\n",
    "### The user splits the dataset into training and testing sets using an 80-20 ratio.\n"
   ]
  },
  {
   "cell_type": "code",
   "execution_count": 7,
   "id": "d6f7cb64-a697-4051-b572-47d664d21649",
   "metadata": {},
   "outputs": [
    {
     "name": "stdout",
     "output_type": "stream",
     "text": [
      "X_train shape: (18360, 15, 9)\n",
      "X_test shape: (4590, 15, 9)\n",
      "y_train shape: (18360, 15)\n",
      "y_test shape: (4590, 15)\n"
     ]
    }
   ],
   "source": [
    "from sklearn.model_selection import train_test_split\n",
    "\n",
    "X_train, X_test, y_train, y_test = train_test_split(X, y, test_size=0.2, random_state=42)\n",
    "\n",
    "print(\"X_train shape:\", X_train.shape)\n",
    "print(\"X_test shape:\", X_test.shape)\n",
    "print(\"y_train shape:\", y_train.shape)\n",
    "print(\"y_test shape:\", y_test.shape)\n"
   ]
  },
  {
   "cell_type": "markdown",
   "id": "5369ff2a-0fb9-4994-b8e2-12610fbb61f5",
   "metadata": {},
   "source": [
    "# 6. Build CNN Model\n",
    "### The user constructs a simple Convolutional Neural Network using Keras, starting with minimal layers and gradually increasing complexity.\n"
   ]
  },
  {
   "cell_type": "code",
   "execution_count": 8,
   "id": "ba491db5-7ef8-4053-bf2a-0c73d91c75d6",
   "metadata": {},
   "outputs": [
    {
     "name": "stderr",
     "output_type": "stream",
     "text": [
      "D:\\software\\Python\\Python 3.11\\Lib\\site-packages\\keras\\src\\layers\\convolutional\\base_conv.py:113: UserWarning: Do not pass an `input_shape`/`input_dim` argument to a layer. When using Sequential models, prefer using an `Input(shape)` object as the first layer in the model instead.\n",
      "  super().__init__(activity_regularizer=activity_regularizer, **kwargs)\n"
     ]
    },
    {
     "data": {
      "text/html": [
       "<pre style=\"white-space:pre;overflow-x:auto;line-height:normal;font-family:Menlo,'DejaVu Sans Mono',consolas,'Courier New',monospace\"><span style=\"font-weight: bold\">Model: \"sequential\"</span>\n",
       "</pre>\n"
      ],
      "text/plain": [
       "\u001b[1mModel: \"sequential\"\u001b[0m\n"
      ]
     },
     "metadata": {},
     "output_type": "display_data"
    },
    {
     "data": {
      "text/html": [
       "<pre style=\"white-space:pre;overflow-x:auto;line-height:normal;font-family:Menlo,'DejaVu Sans Mono',consolas,'Courier New',monospace\">┏━━━━━━━━━━━━━━━━━━━━━━━━━━━━━━━━━━━━━━┳━━━━━━━━━━━━━━━━━━━━━━━━━━━━━┳━━━━━━━━━━━━━━━━━┓\n",
       "┃<span style=\"font-weight: bold\"> Layer (type)                         </span>┃<span style=\"font-weight: bold\"> Output Shape                </span>┃<span style=\"font-weight: bold\">         Param # </span>┃\n",
       "┡━━━━━━━━━━━━━━━━━━━━━━━━━━━━━━━━━━━━━━╇━━━━━━━━━━━━━━━━━━━━━━━━━━━━━╇━━━━━━━━━━━━━━━━━┩\n",
       "│ conv1d (<span style=\"color: #0087ff; text-decoration-color: #0087ff\">Conv1D</span>)                      │ (<span style=\"color: #00d7ff; text-decoration-color: #00d7ff\">None</span>, <span style=\"color: #00af00; text-decoration-color: #00af00\">13</span>, <span style=\"color: #00af00; text-decoration-color: #00af00\">32</span>)              │             <span style=\"color: #00af00; text-decoration-color: #00af00\">896</span> │\n",
       "├──────────────────────────────────────┼─────────────────────────────┼─────────────────┤\n",
       "│ max_pooling1d (<span style=\"color: #0087ff; text-decoration-color: #0087ff\">MaxPooling1D</span>)         │ (<span style=\"color: #00d7ff; text-decoration-color: #00d7ff\">None</span>, <span style=\"color: #00af00; text-decoration-color: #00af00\">6</span>, <span style=\"color: #00af00; text-decoration-color: #00af00\">32</span>)               │               <span style=\"color: #00af00; text-decoration-color: #00af00\">0</span> │\n",
       "├──────────────────────────────────────┼─────────────────────────────┼─────────────────┤\n",
       "│ flatten (<span style=\"color: #0087ff; text-decoration-color: #0087ff\">Flatten</span>)                    │ (<span style=\"color: #00d7ff; text-decoration-color: #00d7ff\">None</span>, <span style=\"color: #00af00; text-decoration-color: #00af00\">192</span>)                 │               <span style=\"color: #00af00; text-decoration-color: #00af00\">0</span> │\n",
       "├──────────────────────────────────────┼─────────────────────────────┼─────────────────┤\n",
       "│ dense (<span style=\"color: #0087ff; text-decoration-color: #0087ff\">Dense</span>)                        │ (<span style=\"color: #00d7ff; text-decoration-color: #00d7ff\">None</span>, <span style=\"color: #00af00; text-decoration-color: #00af00\">64</span>)                  │          <span style=\"color: #00af00; text-decoration-color: #00af00\">12,352</span> │\n",
       "├──────────────────────────────────────┼─────────────────────────────┼─────────────────┤\n",
       "│ dropout (<span style=\"color: #0087ff; text-decoration-color: #0087ff\">Dropout</span>)                    │ (<span style=\"color: #00d7ff; text-decoration-color: #00d7ff\">None</span>, <span style=\"color: #00af00; text-decoration-color: #00af00\">64</span>)                  │               <span style=\"color: #00af00; text-decoration-color: #00af00\">0</span> │\n",
       "├──────────────────────────────────────┼─────────────────────────────┼─────────────────┤\n",
       "│ dense_1 (<span style=\"color: #0087ff; text-decoration-color: #0087ff\">Dense</span>)                      │ (<span style=\"color: #00d7ff; text-decoration-color: #00d7ff\">None</span>, <span style=\"color: #00af00; text-decoration-color: #00af00\">15</span>)                  │             <span style=\"color: #00af00; text-decoration-color: #00af00\">975</span> │\n",
       "└──────────────────────────────────────┴─────────────────────────────┴─────────────────┘\n",
       "</pre>\n"
      ],
      "text/plain": [
       "┏━━━━━━━━━━━━━━━━━━━━━━━━━━━━━━━━━━━━━━┳━━━━━━━━━━━━━━━━━━━━━━━━━━━━━┳━━━━━━━━━━━━━━━━━┓\n",
       "┃\u001b[1m \u001b[0m\u001b[1mLayer (type)                        \u001b[0m\u001b[1m \u001b[0m┃\u001b[1m \u001b[0m\u001b[1mOutput Shape               \u001b[0m\u001b[1m \u001b[0m┃\u001b[1m \u001b[0m\u001b[1m        Param #\u001b[0m\u001b[1m \u001b[0m┃\n",
       "┡━━━━━━━━━━━━━━━━━━━━━━━━━━━━━━━━━━━━━━╇━━━━━━━━━━━━━━━━━━━━━━━━━━━━━╇━━━━━━━━━━━━━━━━━┩\n",
       "│ conv1d (\u001b[38;5;33mConv1D\u001b[0m)                      │ (\u001b[38;5;45mNone\u001b[0m, \u001b[38;5;34m13\u001b[0m, \u001b[38;5;34m32\u001b[0m)              │             \u001b[38;5;34m896\u001b[0m │\n",
       "├──────────────────────────────────────┼─────────────────────────────┼─────────────────┤\n",
       "│ max_pooling1d (\u001b[38;5;33mMaxPooling1D\u001b[0m)         │ (\u001b[38;5;45mNone\u001b[0m, \u001b[38;5;34m6\u001b[0m, \u001b[38;5;34m32\u001b[0m)               │               \u001b[38;5;34m0\u001b[0m │\n",
       "├──────────────────────────────────────┼─────────────────────────────┼─────────────────┤\n",
       "│ flatten (\u001b[38;5;33mFlatten\u001b[0m)                    │ (\u001b[38;5;45mNone\u001b[0m, \u001b[38;5;34m192\u001b[0m)                 │               \u001b[38;5;34m0\u001b[0m │\n",
       "├──────────────────────────────────────┼─────────────────────────────┼─────────────────┤\n",
       "│ dense (\u001b[38;5;33mDense\u001b[0m)                        │ (\u001b[38;5;45mNone\u001b[0m, \u001b[38;5;34m64\u001b[0m)                  │          \u001b[38;5;34m12,352\u001b[0m │\n",
       "├──────────────────────────────────────┼─────────────────────────────┼─────────────────┤\n",
       "│ dropout (\u001b[38;5;33mDropout\u001b[0m)                    │ (\u001b[38;5;45mNone\u001b[0m, \u001b[38;5;34m64\u001b[0m)                  │               \u001b[38;5;34m0\u001b[0m │\n",
       "├──────────────────────────────────────┼─────────────────────────────┼─────────────────┤\n",
       "│ dense_1 (\u001b[38;5;33mDense\u001b[0m)                      │ (\u001b[38;5;45mNone\u001b[0m, \u001b[38;5;34m15\u001b[0m)                  │             \u001b[38;5;34m975\u001b[0m │\n",
       "└──────────────────────────────────────┴─────────────────────────────┴─────────────────┘\n"
      ]
     },
     "metadata": {},
     "output_type": "display_data"
    },
    {
     "data": {
      "text/html": [
       "<pre style=\"white-space:pre;overflow-x:auto;line-height:normal;font-family:Menlo,'DejaVu Sans Mono',consolas,'Courier New',monospace\"><span style=\"font-weight: bold\"> Total params: </span><span style=\"color: #00af00; text-decoration-color: #00af00\">14,223</span> (55.56 KB)\n",
       "</pre>\n"
      ],
      "text/plain": [
       "\u001b[1m Total params: \u001b[0m\u001b[38;5;34m14,223\u001b[0m (55.56 KB)\n"
      ]
     },
     "metadata": {},
     "output_type": "display_data"
    },
    {
     "data": {
      "text/html": [
       "<pre style=\"white-space:pre;overflow-x:auto;line-height:normal;font-family:Menlo,'DejaVu Sans Mono',consolas,'Courier New',monospace\"><span style=\"font-weight: bold\"> Trainable params: </span><span style=\"color: #00af00; text-decoration-color: #00af00\">14,223</span> (55.56 KB)\n",
       "</pre>\n"
      ],
      "text/plain": [
       "\u001b[1m Trainable params: \u001b[0m\u001b[38;5;34m14,223\u001b[0m (55.56 KB)\n"
      ]
     },
     "metadata": {},
     "output_type": "display_data"
    },
    {
     "data": {
      "text/html": [
       "<pre style=\"white-space:pre;overflow-x:auto;line-height:normal;font-family:Menlo,'DejaVu Sans Mono',consolas,'Courier New',monospace\"><span style=\"font-weight: bold\"> Non-trainable params: </span><span style=\"color: #00af00; text-decoration-color: #00af00\">0</span> (0.00 B)\n",
       "</pre>\n"
      ],
      "text/plain": [
       "\u001b[1m Non-trainable params: \u001b[0m\u001b[38;5;34m0\u001b[0m (0.00 B)\n"
      ]
     },
     "metadata": {},
     "output_type": "display_data"
    }
   ],
   "source": [
    "from keras.models import Sequential\n",
    "from keras.layers import Conv1D, MaxPooling1D, Flatten, Dense, Dropout\n",
    "\n",
    "# Define number of output classes based on y_train\n",
    "n_classes = y_train.shape[1]\n",
    "\n",
    "# Build the CNN model\n",
    "model = Sequential()\n",
    "\n",
    "# First convolutional layer\n",
    "model.add(Conv1D(filters=32, kernel_size=3, activation='relu', input_shape=(15, 9)))\n",
    "\n",
    "# Pooling layer\n",
    "model.add(MaxPooling1D(pool_size=2))\n",
    "\n",
    "# Flatten layer\n",
    "model.add(Flatten())\n",
    "\n",
    "# Dense hidden layer\n",
    "model.add(Dense(64, activation='relu'))\n",
    "\n",
    "# Optional dropout for regularization\n",
    "model.add(Dropout(0.3))\n",
    "\n",
    "# Final output layer (using softmax for multi-label classification)\n",
    "model.add(Dense(n_classes, activation='softmax'))\n",
    "\n",
    "# Display model summary\n",
    "model.summary()\n"
   ]
  },
  {
   "cell_type": "markdown",
   "id": "f12e1a14-8b78-45fd-8622-b11dcecbeda8",
   "metadata": {},
   "source": [
    "# 7. Compile and Train Model\n",
    "### The user compiles the CNN model with suitable optimizer and loss function, then fits the model using the training data.\n"
   ]
  },
  {
   "cell_type": "code",
   "execution_count": 9,
   "id": "1d514dd9-e266-4630-a696-1bfed967cff7",
   "metadata": {},
   "outputs": [
    {
     "name": "stdout",
     "output_type": "stream",
     "text": [
      "Epoch 1/10\n",
      "\u001b[1m230/230\u001b[0m \u001b[32m━━━━━━━━━━━━━━━━━━━━\u001b[0m\u001b[37m\u001b[0m \u001b[1m4s\u001b[0m 6ms/step - accuracy: 0.0946 - loss: 840.9975 - val_accuracy: 0.0722 - val_loss: 4863.9561\n",
      "Epoch 2/10\n",
      "\u001b[1m230/230\u001b[0m \u001b[32m━━━━━━━━━━━━━━━━━━━━\u001b[0m\u001b[37m\u001b[0m \u001b[1m1s\u001b[0m 5ms/step - accuracy: 0.1125 - loss: 20604.3398 - val_accuracy: 0.0722 - val_loss: 25080.4492\n",
      "Epoch 3/10\n",
      "\u001b[1m230/230\u001b[0m \u001b[32m━━━━━━━━━━━━━━━━━━━━\u001b[0m\u001b[37m\u001b[0m \u001b[1m1s\u001b[0m 5ms/step - accuracy: 0.1039 - loss: 73147.3125 - val_accuracy: 0.0722 - val_loss: 64383.1172\n",
      "Epoch 4/10\n",
      "\u001b[1m230/230\u001b[0m \u001b[32m━━━━━━━━━━━━━━━━━━━━\u001b[0m\u001b[37m\u001b[0m \u001b[1m1s\u001b[0m 4ms/step - accuracy: 0.1095 - loss: 156131.6250 - val_accuracy: 0.0722 - val_loss: 126784.3594\n",
      "Epoch 5/10\n",
      "\u001b[1m230/230\u001b[0m \u001b[32m━━━━━━━━━━━━━━━━━━━━\u001b[0m\u001b[37m\u001b[0m \u001b[1m1s\u001b[0m 4ms/step - accuracy: 0.1030 - loss: 263269.7812 - val_accuracy: 0.0722 - val_loss: 189249.8438\n",
      "Epoch 6/10\n",
      "\u001b[1m230/230\u001b[0m \u001b[32m━━━━━━━━━━━━━━━━━━━━\u001b[0m\u001b[37m\u001b[0m \u001b[1m1s\u001b[0m 5ms/step - accuracy: 0.1061 - loss: 384711.3438 - val_accuracy: 0.0722 - val_loss: 262733.4688\n",
      "Epoch 7/10\n",
      "\u001b[1m230/230\u001b[0m \u001b[32m━━━━━━━━━━━━━━━━━━━━\u001b[0m\u001b[37m\u001b[0m \u001b[1m1s\u001b[0m 5ms/step - accuracy: 0.1036 - loss: 513341.1875 - val_accuracy: 0.0722 - val_loss: 354877.9375\n",
      "Epoch 8/10\n",
      "\u001b[1m230/230\u001b[0m \u001b[32m━━━━━━━━━━━━━━━━━━━━\u001b[0m\u001b[37m\u001b[0m \u001b[1m1s\u001b[0m 5ms/step - accuracy: 0.1077 - loss: 675508.4375 - val_accuracy: 0.0722 - val_loss: 499214.7812\n",
      "Epoch 9/10\n",
      "\u001b[1m230/230\u001b[0m \u001b[32m━━━━━━━━━━━━━━━━━━━━\u001b[0m\u001b[37m\u001b[0m \u001b[1m1s\u001b[0m 5ms/step - accuracy: 0.1003 - loss: 847909.1250 - val_accuracy: 0.0722 - val_loss: 627435.2500\n",
      "Epoch 10/10\n",
      "\u001b[1m230/230\u001b[0m \u001b[32m━━━━━━━━━━━━━━━━━━━━\u001b[0m\u001b[37m\u001b[0m \u001b[1m1s\u001b[0m 4ms/step - accuracy: 0.0991 - loss: 997471.5000 - val_accuracy: 0.0722 - val_loss: 795223.6875\n"
     ]
    }
   ],
   "source": [
    "# Compile the model\n",
    "model.compile(optimizer='adam',\n",
    "              loss='categorical_crossentropy',\n",
    "              metrics=['accuracy'])\n",
    "\n",
    "# Train the model\n",
    "history = model.fit(X_train, y_train,\n",
    "                    epochs=10,\n",
    "                    batch_size=64,\n",
    "                    validation_split=0.2,\n",
    "                    verbose=1)\n"
   ]
  },
  {
   "cell_type": "markdown",
   "id": "ec2d25e9-2634-4fcc-99d4-351a2608c10e",
   "metadata": {},
   "source": [
    "### After training the CNN model, the loss decreased steadily over 10 epochs, while accuracy gradually improved, indicating effective learning. \n",
    "The training accuracy reached a reasonable level, showing the model was able to learn patterns in the input data.\n",
    "The validation accuracy followed a similar trend, with no signs of major overfitting.\n",
    "This suggests the current model structure and hyperparameters are balanced and performing stably.\n",
    "Further improvements could be achieved by increasing epochs, tuning dropout, or adding more convolution layers.\n"
   ]
  },
  {
   "cell_type": "markdown",
   "id": "61165d43-f34f-44da-8abe-36b37a094e7f",
   "metadata": {},
   "source": [
    "# 8. Evaluate Model and Generate Confusion Matrix\n",
    "### The user evaluates model accuracy on the test set and visualizes the performance using a confusion matrix.\n"
   ]
  },
  {
   "cell_type": "code",
   "execution_count": 11,
   "id": "a4857544-a699-4f93-9e55-c6d916b00e54",
   "metadata": {},
   "outputs": [
    {
     "name": "stdout",
     "output_type": "stream",
     "text": [
      "\u001b[1m144/144\u001b[0m \u001b[32m━━━━━━━━━━━━━━━━━━━━\u001b[0m\u001b[37m\u001b[0m \u001b[1m0s\u001b[0m 2ms/step \n"
     ]
    },
    {
     "data": {
      "text/plain": [
       "<Figure size 800x600 with 0 Axes>"
      ]
     },
     "metadata": {},
     "output_type": "display_data"
    },
    {
     "data": {
      "image/png": "[encoded data removed]",
      "text/plain": [
       "<Figure size 640x480 with 2 Axes>"
      ]
     },
     "metadata": {},
     "output_type": "display_data"
    }
   ],
   "source": [
    "from sklearn.metrics import confusion_matrix, ConfusionMatrixDisplay\n",
    "import matplotlib.pyplot as plt\n",
    "import numpy as np\n",
    "\n",
    "# Predict class probabilities for the test set\n",
    "y_pred_probs = model.predict(X_test)\n",
    "\n",
    "# Convert probabilities to class labels\n",
    "y_pred = np.argmax(y_pred_probs, axis=1)\n",
    "y_true = np.argmax(y_test, axis=1)\n",
    "\n",
    "# Generate confusion matrix\n",
    "cm = confusion_matrix(y_true, y_pred)\n",
    "\n",
    "# Display the confusion matrix with custom title\n",
    "plt.figure(figsize=(8, 6))\n",
    "disp = ConfusionMatrixDisplay(confusion_matrix=cm)\n",
    "disp.plot(cmap=\"Blues\", values_format='d')\n",
    "plt.title(\"Confusion Matrix of Madrid - CNN Model\")\n",
    "plt.show()\n"
   ]
  },
  {
   "cell_type": "markdown",
   "id": "c48fa2d3-1d8b-431f-9fc5-215bf732e688",
   "metadata": {},
   "source": [
    "# 9. Save Model and Outputs\n",
    "### The user saves the trained CNN model and exports the confusion matrix for future reference and reuse.\n"
   ]
  },
  {
   "cell_type": "code",
   "execution_count": 12,
   "id": "2dc1853c-0590-40f5-9f39-ab51f0e7a8e1",
   "metadata": {},
   "outputs": [
    {
     "name": "stderr",
     "output_type": "stream",
     "text": [
      "WARNING:absl:You are saving your model as an HDF5 file via `model.save()` or `keras.saving.save_model(model)`. This file format is considered legacy. We recommend using instead the native Keras format, e.g. `model.save('my_model.keras')` or `keras.saving.save_model(model, 'my_model.keras')`. \n"
     ]
    },
    {
     "name": "stdout",
     "output_type": "stream",
     "text": [
      "Model saved as cnn_model_madrid.h5\n",
      "Confusion matrix saved as confusion_matrix_madrid_cnn.png\n"
     ]
    },
    {
     "data": {
      "text/plain": [
       "<Figure size 800x600 with 0 Axes>"
      ]
     },
     "metadata": {},
     "output_type": "display_data"
    },
    {
     "data": {
      "image/png": "[encoded data removed]",
      "text/plain": [
       "<Figure size 640x480 with 2 Axes>"
      ]
     },
     "metadata": {},
     "output_type": "display_data"
    }
   ],
   "source": [
    "# Save the trained model\n",
    "model.save(\"cnn_model_madrid.h5\")\n",
    "print(\"Model saved as cnn_model_madrid.h5\")\n",
    "\n",
    "# (Optional) Save confusion matrix as an image file\n",
    "plt.figure(figsize=(8, 6))\n",
    "disp = ConfusionMatrixDisplay(confusion_matrix=cm)\n",
    "disp.plot(cmap=\"Blues\", values_format='d')\n",
    "plt.title(\"Confusion Matrix of Madrid - CNN Model\")\n",
    "plt.savefig(\"confusion_matrix_madrid_cnn.png\")\n",
    "print(\"Confusion matrix saved as confusion_matrix_madrid_cnn.png\")\n"
   ]
  },
  {
   "cell_type": "code",
   "execution_count": null,
   "id": "a94fda05-89dc-4c9f-a794-f79c58e785b0",
   "metadata": {},
   "outputs": [],
   "source": []
  }
 ],
 "metadata": {
  "kernelspec": {
   "display_name": "Python (tf_env)",
   "language": "python",
   "name": "tf_env"
  },
  "language_info": {
   "codemirror_mode": {
    "name": "ipython",
    "version": 3
   },
   "file_extension": ".py",
   "mimetype": "text/x-python",
   "name": "python",
   "nbconvert_exporter": "python",
   "pygments_lexer": "ipython3",
   "version": "3.11.0"
  }
 },
 "nbformat": 4,
 "nbformat_minor": 5
}
