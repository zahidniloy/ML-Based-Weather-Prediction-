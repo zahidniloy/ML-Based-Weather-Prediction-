{
 "cells": [
  {
   "cell_type": "code",
   "execution_count": null,
   "id": "a11aa508",
   "metadata": {},
   "outputs": [],
   "source": [
    "import pandas as pd\n",
    "import numpy as np\n",
    "import seaborn as sns\n",
    "import os\n",
    "import operator\n",
    "import matplotlib.pyplot as plt\n",
    "import tensorflow as tf\n",
    "from keras import Input\n",
    "from keras.models import Sequential\n",
    "from keras.models import Model\n",
    "from keras.layers import Conv1D, Conv2D, Dense, BatchNormalization, Flatten, MaxPooling2D, Activation\n",
    "from keras.layers.core import Dense, Dropout\n",
    "from keras.utils import np_utils\n",
    "from keras.preprocessing.image import ImageDataGenerator\n",
    "from sklearn.metrics import confusion_matrix, accuracy_score, ConfusionMatrixDisplay"
   ]
  },
  {
   "cell_type": "code",
   "execution_count": null,
   "id": "392dad74",
   "metadata": {},
   "outputs": [],
   "source": [
    "#download the weather images and put them in a directory\n",
    "path = #your path here\n",
    "folders = os.listdir(path)\n",
    "print(folders)"
   ]
  },
  {
   "cell_type": "code",
   "execution_count": null,
   "id": "2c41a09b",
   "metadata": {},
   "outputs": [],
   "source": [
    "#this will load in the pictures and rescale them to 250x250pixels\n",
    "\n",
    "datagenerator = ImageDataGenerator(rescale=1/255, validation_split=0.2)\n",
    "train_generator = datagenerator.flow_from_directory(\n",
    "    path,\n",
    "    target_size=(250 , 250),\n",
    "    batch_size=32,\n",
    "    subset='training',\n",
    ")\n",
    "\n",
    "test_generator = datagenerator.flow_from_directory(\n",
    "    path,\n",
    "    target_size=(250 , 250),\n",
    "    batch_size=32,\n",
    "    subset='validation',\n",
    ")"
   ]
  },
  {
   "cell_type": "code",
   "execution_count": null,
   "id": "0030e46f",
   "metadata": {},
   "outputs": [],
   "source": [
    "#this is a CNN to categorize the weather images\n",
    "\n",
    "inputs = Input(shape=(250, 250, 3))\n",
    "\n",
    "x = Conv2D(32, (5,5), activation = 'relu')(inputs)\n",
    "x = MaxPooling2D(3,3)(x)\n",
    "x = Conv2D(64, (5,5) , activation = 'relu')(x)\n",
    "x = MaxPooling2D((3,3))(x)\n",
    "x = Conv2D(128 , (5,5) , activation = 'relu')(x)\n",
    "x = MaxPooling2D(3,3)(x)\n",
    "x = Flatten()(x)\n",
    "x = Dropout(0.5, seed = 5)(x)\n",
    "x = Dense(128 , activation = 'relu')(x)\n",
    "\n",
    "outputs = Dense(4, activation = 'softmax')(x)\n",
    "\n",
    "model:Model = Model(inputs=inputs, outputs=outputs)"
   ]
  },
  {
   "cell_type": "code",
   "execution_count": null,
   "id": "c6b8e555",
   "metadata": {},
   "outputs": [],
   "source": [
    "#compile and run the model\n",
    "#how many epochs are required to generate an accurate model?\n",
    "\n",
    "model.compile(optimizer=\"Adam\", loss=\"mean_squared_error\", metrics=[\"accuracy\"])\n",
    "model.fit(\n",
    "    train_generator, \n",
    "    epochs = 1, #<----FILL THIS IN!\n",
    "    steps_per_epoch = train_generator.n // train_generator.batch_size,\n",
    "    validation_data = test_generator,\n",
    "    validation_steps = test_generator.n // test_generator.batch_size,\n",
    ")"
   ]
  },
  {
   "cell_type": "code",
   "execution_count": null,
   "id": "69b14be9",
   "metadata": {},
   "outputs": [],
   "source": [
    "results = pd.DataFrame(model.history.history)"
   ]
  },
  {
   "cell_type": "code",
   "execution_count": null,
   "id": "72f7af2a",
   "metadata": {},
   "outputs": [],
   "source": [
    "results[['loss','val_loss']].plot(title='Model Loss')\n",
    "plt.savefig('./loss.png')"
   ]
  },
  {
   "cell_type": "code",
   "execution_count": null,
   "id": "079e47c6",
   "metadata": {},
   "outputs": [],
   "source": [
    "results[['accuracy','val_accuracy']].plot(title='Model Acurracy')\n",
    "plt.savefig('./accuracy.png')"
   ]
  },
  {
   "cell_type": "code",
   "execution_count": null,
   "id": "a824ae0c",
   "metadata": {},
   "outputs": [],
   "source": [
    "# Print the accuracy and loss\n",
    "print(\"Accuracy: {}, Val_Accuracy: {}\".format(results['accuracy'].iloc[-1], results['val_accuracy'].iloc[-1]))\n",
    "print(\"Loss: {}, Val_Loss: {}\".format(results['loss'].iloc[-1], results['val_loss'].iloc[-1]))"
   ]
  },
  {
   "cell_type": "code",
   "execution_count": null,
   "id": "fdee0eee",
   "metadata": {},
   "outputs": [],
   "source": [
    "# collect n batches of images and display the confusion matrix for them.\n",
    "\n",
    "class_names = ['Cloudy', 'Rain', 'Shine', 'Sunrise']\n",
    "n = 10 #<--you can change the number of batches selected.\n",
    "\n",
    "image_batch, classes_batch = next(test_generator)\n",
    "\n",
    "for batch in range(n):\n",
    "    temp = next(test_generator)\n",
    "    image_batch = np.concatenate((image_batch, temp[0]))\n",
    "    classes_batch = np.concatenate((classes_batch, temp[1]))\n",
    "\n",
    "classes_batch = classes_batch\n",
    "y_predict = model.predict(image_batch)\n",
    "\n",
    "#Confusion matrix for training data\n",
    "cm = confusion_matrix(y_pred = [np.argmax(x) for x in y_predict], y_true = [np.argmax(x) for x in classes_batch])\n",
    "disp = ConfusionMatrixDisplay(confusion_matrix=cm)\n",
    "disp.plot()\n",
    "plt.show()"
   ]
  },
  {
   "cell_type": "code",
   "execution_count": null,
   "id": "313732b0",
   "metadata": {},
   "outputs": [],
   "source": [
    "#This function will display a number of random images as well as the predictions for the type of weather.\n",
    "\n",
    "def predict_one(model, num_images = None):  \n",
    "    image_batch, classes_batch = next(test_generator)\n",
    "    predicted_batch = model.predict(image_batch)\n",
    "    for k in range(0,image_batch.shape[0] if num_images is None else num_images):\n",
    "        image = image_batch[k]\n",
    "        real_class = class_names[np.argmax(classes_batch[k])]\n",
    "        predicted_class = class_names[np.argmax(predicted_batch[k])]\n",
    "        value_predicted = predicted_batch[k]\n",
    "        isTrue = (real_class == predicted_class)\n",
    "        plt.figure(k)\n",
    "        plt.title(str(\"Correct Prediction\" if isTrue else \"Incorrect Prediction\") + ' - class: ' + real_class + ' - ' + 'predicted: ' + predicted_class + str(value_predicted))\n",
    "        plt.axis('off')\n",
    "        plt.savefig('./' + real_class + '_' + predicted_class + '_' + str(value_predicted) + '.png')\n",
    "        plt.imshow(image)"
   ]
  },
  {
   "cell_type": "code",
   "execution_count": null,
   "id": "8857612d",
   "metadata": {
    "scrolled": false
   },
   "outputs": [],
   "source": [
    "predict_one(model, 1) #<--you can show multiple pictures with this command. Just fill in the number you want to see."
   ]
  }
 ],
 "metadata": {
  "kernelspec": {
   "display_name": "Python 3 (ipykernel)",
   "language": "python",
   "name": "python3"
  },
  "language_info": {
   "codemirror_mode": {
    "name": "ipython",
    "version": 3
   },
   "file_extension": ".py",
   "mimetype": "text/x-python",
   "name": "python",
   "nbconvert_exporter": "python",
   "pygments_lexer": "ipython3",
   "version": "3.9.7"
  }
 },
 "nbformat": 4,
 "nbformat_minor": 5
}
